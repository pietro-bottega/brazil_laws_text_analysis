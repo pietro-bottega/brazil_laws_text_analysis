{
 "cells": [
  {
   "cell_type": "code",
   "execution_count": 1,
   "id": "46314032-50ed-4dfa-a745-b3ac2ed02c7e",
   "metadata": {},
   "outputs": [],
   "source": [
    "import basedosdados as bd\n",
    "import pandas as pd"
   ]
  },
  {
   "cell_type": "markdown",
   "id": "44bbd424-bbab-49bf-bba6-4763200be5bc",
   "metadata": {},
   "source": [
    "## Seleção do período:\n",
    "- desde 2022-01-01, início do atual mandato da câmara de deputados\n",
    "- até 2024-04-01, limite do dataset com acesso gratuito "
   ]
  },
  {
   "cell_type": "markdown",
   "id": "d13147f8-2933-4f47-9dd5-c1b0e4310d11",
   "metadata": {},
   "source": [
    "# Observações\n",
    "\n",
    "### Passo 1: Análise de texto de leis propostas\n",
    "\n",
    "Cada linha da base de dados corresponde a uma proposição, que pode ser de variados tipos.\n",
    "Os que parecem ser mais relevantes são \"Projeto de Lei\" ou \"Redação Final\"\n",
    "A escolha depende de (1) quanto detalhe se quer ter sobre o texto da lei e (2) o quão próximo o texto é da lei que foi votada e talvez aprovada.\n",
    "- (1) Se apenas a emenda (descrição da proposição) for suficiente, dá pra usar no bag of words a coluna \"ementa\" das proposições tipo \"Projeto de Lei\". Se quiser mais detalhe, é melhor usar o texto completo da lei, coluna \"teor_completo\", das proposições tipo \"Redação Final\".\n",
    "- (2) Se quiser o projeto de lei da forma que foi proposto pelo parlamentar, é melhor usar o tipo \"Projeto de Lei\", se quiser a lei como ela foi talvez aprovada ou votada, é melhor usar \"Redação Final\"\n",
    "\n",
    "Caso a escolha seja usar o texto completo (\"teor_completo\") da \"Redação Final\", é preciso encontrar um library que faça a leitura do PDF, e resolver o erro que tive. Também vai ter uma lmiitação de performance por armazenar o texto da web na memória.\n",
    "\n",
    "### Passo 2: Correlação com temas das leis propostas e sua aprovação\n",
    "\n",
    "Essa base de dados tem outras tabelas relacionadas à votação, também com o ID da proposição. Mas precisa investigar mais pra entender qual proposição representa a votação do PL antes de passar à sanção do presidente da república (último passo).\n",
    "\n"
   ]
  },
  {
   "cell_type": "markdown",
   "id": "3897f112-e3a7-4816-ac37-626efff64bdc",
   "metadata": {},
   "source": [
    "## Seleção do tipo de proposição: 'Projeto de Lei' ou 'Redação Final' "
   ]
  },
  {
   "cell_type": "code",
   "execution_count": 2,
   "id": "b0652045-9ce9-4f47-a6e5-1f4ee47cb7e7",
   "metadata": {
    "scrolled": true
   },
   "outputs": [
    {
     "name": "stderr",
     "output_type": "stream",
     "text": [
      "Downloading: 100%|████████████████████████████████████████████████████████████████| 235/235 [00:00<00:00, 619.27rows/s]"
     ]
    },
    {
     "name": "stdout",
     "output_type": "stream",
     "text": [
      "**EXEMPLO DOS DIVERSOS TIPOS DE PROPOSIÇÃO (TOTAL: 235)**\n",
      "Emenda/Substitutivo do Senado\n",
      "Destaque\n",
      "Proposta\n",
      "Reclamação\n",
      "Redação Final\n",
      "Parecer Vencedor\n",
      "Indicação à Mesa\n",
      "Relatório Preliminar\n",
      "Relatório de Receita\n",
      "Requerimento de Moção\n"
     ]
    },
    {
     "name": "stderr",
     "output_type": "stream",
     "text": [
      "\n"
     ]
    }
   ],
   "source": [
    "# SQL query\n",
    "\n",
    "list_types = '''\n",
    "SELECT DISTINCT\n",
    "  sigla,\n",
    "  tipo,\n",
    "FROM `basedosdados.br_camara_dados_abertos.proposicao_microdados` AS dados\n",
    "WHERE (dados.data > '2022-01-01' AND dados.data < '2024-04-01')\n",
    "'''\n",
    "\n",
    "# Read query via 'Base dos dados' Google Cloud API\n",
    "projects_list = bd.read_sql(list_types, billing_project_id='anpec-base-dos-dados')\n",
    "\n",
    "print('**EXEMPLO DOS DIVERSOS TIPOS DE PROPOSIÇÃO (TOTAL: 235)**')\n",
    "for n in projects_list['tipo'][:10]:\n",
    "    print(n)"
   ]
  },
  {
   "cell_type": "markdown",
   "id": "97c52848-da68-4098-9f87-2ed2fb3f2f4d",
   "metadata": {},
   "source": [
    "- [Projeto de Lei](https://www.congressonacional.leg.br/legislacao-e-publicacoes/glossario-legislativo/-/legislativo/termo/projeto_de_lei_pl) - Proposição de uma lei ordinária, vai ser sancionado (aprovado) pelo presidente da república\n",
    "- [Projeto de Lei Complementar](https://www.congressonacional.leg.br/legislacao-e-publicacoes/glossario-legislativo/-/legislativo/termo/lei_complementar_lc) - adiciona detalhes a uma lei já aprovada\n",
    "- [Redação Final](https://www.congressonacional.leg.br/legislacao-e-publicacoes/glossario-legislativo/-/legislativo/termo/redacao_final) - texto do projeto de lei a ser votado pelo plenário da câmara\n",
    "\n",
    "  **Projeto de lei é a lei quando recém proposta, ainda precisando ser votada pela plenária da câmara e senado (quando se aplica). Redação final é o projeto já ajustado pela Câmara e Senado, antes de ir para sanção (aprovação) do Presidente da República**\n",
    "\n",
    "[Processo legislativo](https://www.camara.leg.br/entenda-o-processo-legislativo/)"
   ]
  },
  {
   "cell_type": "markdown",
   "id": "c0ebe9e2-369e-42e5-a88e-569a74d06e53",
   "metadata": {},
   "source": [
    "## Detalhamento do tipo 'Projeto de Lei'"
   ]
  },
  {
   "cell_type": "code",
   "execution_count": 3,
   "id": "056b7e6d-30fe-4652-9564-86d1d7eee289",
   "metadata": {},
   "outputs": [
    {
     "name": "stderr",
     "output_type": "stream",
     "text": [
      "Downloading: 100%|█████████████████████████████████████████████████████████████| 8904/8904 [00:06<00:00, 1461.84rows/s]\n"
     ]
    }
   ],
   "source": [
    "# SQL query\n",
    "\n",
    "query_projects = '''\n",
    "SELECT DISTINCT\n",
    "  sigla,\n",
    "  tipo,\n",
    "  ementa,\n",
    "  ementa_detalhada,\n",
    "  palavra_chave,\n",
    "  situacao_ultimo_status,\n",
    "  apreciacao_ultimo_status,\n",
    "  url_teor_proposicao\n",
    "FROM `basedosdados.br_camara_dados_abertos.proposicao_microdados` AS dados\n",
    "WHERE (dados.data > '2022-01-01' AND dados.data < '2024-04-01')\n",
    "AND dados.tipo = 'Projeto de Lei'\n",
    "'''\n",
    "\n",
    "# Read query via 'Base dos dados' Google Cloud API\n",
    "projects = bd.read_sql(query_projects, billing_project_id='anpec-base-dos-dados')"
   ]
  },
  {
   "cell_type": "code",
   "execution_count": 4,
   "id": "0e933c92-f614-4672-98cb-bb90622bcda1",
   "metadata": {},
   "outputs": [
    {
     "data": {
      "text/plain": [
       "Projeto de Lei    8904\n",
       "Name: tipo, dtype: int64"
      ]
     },
     "execution_count": 4,
     "metadata": {},
     "output_type": "execute_result"
    }
   ],
   "source": [
    "# contagem de projetos de lei no período\n",
    "\n",
    "projects[projects['tipo'] == \"Projeto de Lei\"]['tipo'].value_counts()"
   ]
  },
  {
   "cell_type": "code",
   "execution_count": 5,
   "id": "8b1d8746-595e-4bfa-b9d9-b723819f52a2",
   "metadata": {
    "scrolled": true
   },
   "outputs": [
    {
     "name": "stdout",
     "output_type": "stream",
     "text": [
      "Altera a redação da Lei nº 10.779, de 25 de novembro de 2003, que dispõe sobre a concessão do benefício de seguro desemprego, durante o período de defeso, ao pescador profissional que exerce a atividade pesqueira de forma artesanal, para estabelecer prazo para análise de documentos e pagamento do benefício aos pescadores profissionais artesanais.\n",
      "Denomina \"Rei Pelé\" o túnel Santos-Guarujá.\n",
      "Dispõe sobre reconhecimento e transferência de propriedade, importação e registro veículos automotores com mais de trinta anos de fabricação e altera a Lei nº 6.015, de 1973, a Lei nº 8.723, de 1993, a Lei nº 9.503, de 1997, Código de Trânsito Brasileiro, e a Lei nº 14.382, de 2022.\n",
      "Institui o Programa Nacional de Doação de Sangue, Plaquetas e Medula óssea.\n",
      "Altera a Lei n° 11.350, de 5 de outubro de 2006, para dispor sobre o adicional de insalubridade aos Agentes Comunitários de Saúde e aos Agentes de Combate às Endemias, na forma do § 10 do art. 198 da Constituição Federal.\n"
     ]
    }
   ],
   "source": [
    "# campo de emenda é a descrição do projeto de lei\n",
    "\n",
    "for n in projects['ementa'][:5]:\n",
    "    print(n)"
   ]
  },
  {
   "cell_type": "code",
   "execution_count": 6,
   "id": "42130f30-e6a8-42c0-9049-fbd833206a68",
   "metadata": {},
   "outputs": [
    {
     "name": "stdout",
     "output_type": "stream",
     "text": [
      "Alteração, Lei do Seguro-Defeso (2003), concessão, Benefício financeiro, Seguro-desemprego, Defeso, Atividade pesqueira, Pescador, Pescador profissional, criação, Prazo, análise, Documentação, Pagamento.\n",
      "Denominação, Túnel, Trecho rodoviário, Santos (SP), Guarujá (SP), São Paulo (Estado), jogador de futebol, homenagem póstuma, logradouro público.\n",
      "Alteração, Código de Trânsito Brasileiro (1997), Lei dos Registros Públicos (1973), Sistema Eletrônico dos Registro Públicos (SERP), Veículo automotor, emissão, Poluente, reconhecimento extrajudicial, transferência, registro, Proprietário, Usucapião, Importação, Veículo de coleção.\n",
      "Criação, Programa Nacional de doação de sangue, plaquetas e medula óssea, ampliação, Hemocentro, Hemonúcleo, Posto de coleta, Município, campanha educativa. _ Criação, Carteira Nacional Digital do Doador de Sangue, Aplicativo móvel, histórico, doação.\n",
      "Alteração, Lei Federal, garantia, Agente comunitário de saúde, Agente de combate às endemias, Adicional de insalubridade, valor máximo.\n"
     ]
    }
   ],
   "source": [
    "# a própria base de dados já tem um label com palavras chaves do projeto de lei\n",
    "\n",
    "for n in projects['palavra_chave'][:5]:\n",
    "    print(n)"
   ]
  },
  {
   "cell_type": "code",
   "execution_count": 7,
   "id": "2e3fd3e4-3fd3-4f5e-8ba0-d0e822a42a34",
   "metadata": {},
   "outputs": [
    {
     "data": {
      "text/plain": [
       "Tramitando em Conjunto              4343\n",
       "Aguardando Designação de Relator    1402\n",
       "Aguardando Parecer                  1231\n",
       "Pronta para Pauta                    435\n",
       "Arquivada                            240\n",
       "Name: situacao_ultimo_status, dtype: int64"
      ]
     },
     "execution_count": 7,
     "metadata": {},
     "output_type": "execute_result"
    }
   ],
   "source": [
    "# status da proposta, não consegui encontrar algo que indique se o projeto de lei foi aprovado\n",
    "\n",
    "projects['situacao_ultimo_status'].value_counts().head(5)"
   ]
  },
  {
   "cell_type": "code",
   "execution_count": 8,
   "id": "f98246a8-7fb8-49ad-8111-cabededa6173",
   "metadata": {},
   "outputs": [
    {
     "data": {
      "text/plain": [
       "'Denomina \"Rei Pelé\" o túnel Santos-Guarujá.'"
      ]
     },
     "execution_count": 8,
     "metadata": {},
     "output_type": "execute_result"
    }
   ],
   "source": [
    "# exemplo de ementa\n",
    "\n",
    "projects['ementa'][1]"
   ]
  },
  {
   "cell_type": "code",
   "execution_count": 9,
   "id": "52c8b40c-1166-4e61-b315-ef798e6d005a",
   "metadata": {},
   "outputs": [
    {
     "data": {
      "text/plain": [
       "'https://www.camara.leg.br/proposicoesWeb/prop_mostrarintegra?codteor=2397373'"
      ]
     },
     "execution_count": 9,
     "metadata": {},
     "output_type": "execute_result"
    }
   ],
   "source": [
    "# exemplo de texto completo do projeto de lei\n",
    "\n",
    "project_url = projects['url_teor_proposicao'][1]\n",
    "project_url"
   ]
  },
  {
   "cell_type": "markdown",
   "id": "5cb86921-1cae-4a73-9c5d-dc858206d85c",
   "metadata": {},
   "source": [
    "## Detalhamento do tipo 'Redação Final'"
   ]
  },
  {
   "cell_type": "code",
   "execution_count": 10,
   "id": "11830828-838d-4b6f-ba51-540ce927f7b6",
   "metadata": {},
   "outputs": [
    {
     "name": "stderr",
     "output_type": "stream",
     "text": [
      "Downloading: 100%|█████████████████████████████████████████████████████████████| 1559/1559 [00:00<00:00, 2557.16rows/s]\n"
     ]
    }
   ],
   "source": [
    "# SQL query\n",
    "\n",
    "query_writing = '''\n",
    "SELECT DISTINCT\n",
    "  sigla,\n",
    "  tipo,\n",
    "  ementa,\n",
    "  ementa_detalhada,\n",
    "  palavra_chave,\n",
    "  situacao_ultimo_status,\n",
    "  apreciacao_ultimo_status,\n",
    "  url_teor_proposicao\n",
    "FROM `basedosdados.br_camara_dados_abertos.proposicao_microdados` AS dados\n",
    "WHERE (dados.data > '2022-01-01' AND dados.data < '2024-04-01')\n",
    "AND dados.tipo = 'Redação Final'\n",
    "'''\n",
    "\n",
    "# Read query via 'Base dos dados' Google Cloud API\n",
    "writing = bd.read_sql(query_writing, billing_project_id='anpec-base-dos-dados')"
   ]
  },
  {
   "cell_type": "code",
   "execution_count": 11,
   "id": "e1e368d7-0b65-4dcf-8003-abad38646a8b",
   "metadata": {},
   "outputs": [
    {
     "data": {
      "text/plain": [
       "Redação Final    1559\n",
       "Name: tipo, dtype: int64"
      ]
     },
     "execution_count": 11,
     "metadata": {},
     "output_type": "execute_result"
    }
   ],
   "source": [
    "# contagem de redações finais, menos do que projetos de lei, já que ela seria um estágio mais avançad\n",
    "\n",
    "writing[writing['tipo'] == \"Redação Final\"]['tipo'].value_counts()"
   ]
  },
  {
   "cell_type": "code",
   "execution_count": 12,
   "id": "bc6552c6-9854-492f-b722-1e102e411648",
   "metadata": {},
   "outputs": [
    {
     "name": "stdout",
     "output_type": "stream",
     "text": [
      "Redação Final do PL 4519/2019\n",
      "Redação Final do PDL 303/23\n",
      "Altera a Consolidação das Leis do Trabalho (CLT), aprovada pelo Decreto-Lei nº 5.452, de 1º de maio de 1943, para determinar que as empresas disponibilizem a seus empregados informações sobre campanhas oficiais de vacinação, sobre o papilomavírus humano (HPV) e sobre os cânceres de mama, de colo do útero e de próstata.\n",
      "Dispõe sobre o direito a indenização por dano moral e a concessão de pensão especial à pessoa com deficiência permanente decorrente de síndrome congênita associada à infecção pelo vírus Zika ou de Síndrome de Guillain-Barré causada pelo vírus Zika, e altera a Consolidação das Leis do Trabalho, aprovada pelo Decreto-Lei nº 5.452, de 1º de maio de 1943, e as Leis nºs 8.742, de 7 de dezembro de 1993, e 8.213, de 24 de julho de 1991.\n",
      "Redação Final do PDL 284/22\n"
     ]
    }
   ],
   "source": [
    "# ementa da redação final não é uma descrição tão boa, em muitas linhas só é a referência a um projeto de lei\n",
    "\n",
    "for n in writing['ementa'][92:97]:\n",
    "    print(n)"
   ]
  },
  {
   "cell_type": "code",
   "execution_count": 13,
   "id": "cdab9d42-9cb4-40c6-89d4-ca4633bd0617",
   "metadata": {},
   "outputs": [
    {
     "data": {
      "text/plain": [
       "Aguardando Providências Internas             400\n",
       "Pronta para Pauta                             77\n",
       "Aguardando Apreciação pelo Senado Federal      1\n",
       "Aguardando Recebimento                         1\n",
       "Aguardando Leitura e Publicação                1\n",
       "Name: situacao_ultimo_status, dtype: int64"
      ]
     },
     "execution_count": 13,
     "metadata": {},
     "output_type": "execute_result"
    }
   ],
   "source": [
    "# status da proposta, não consegui encontrar algo que indique se o projeto de lei foi aprovado\n",
    "\n",
    "writing['situacao_ultimo_status'].value_counts()"
   ]
  },
  {
   "cell_type": "code",
   "execution_count": 14,
   "id": "1ae38c48-d044-46ca-a8d8-a223b3b15054",
   "metadata": {},
   "outputs": [
    {
     "data": {
      "text/plain": [
       "'Inscreve o nome de Zilda Arns Neumannno Livro dos Heróis e Heroínas daPátria.'"
      ]
     },
     "execution_count": 14,
     "metadata": {},
     "output_type": "execute_result"
    }
   ],
   "source": [
    "# Exemplo de ementa\n",
    "\n",
    "writing['ementa'][1]"
   ]
  },
  {
   "cell_type": "markdown",
   "id": "6800179a-9baa-4346-ab33-d6e728386f8d",
   "metadata": {},
   "source": [
    "## Teste de extração da arquivo de PDF da Emenda Final"
   ]
  },
  {
   "cell_type": "code",
   "execution_count": 20,
   "id": "ea7cbb94-d8b6-418e-a3cf-575b7fcb2a0c",
   "metadata": {},
   "outputs": [
    {
     "data": {
      "text/plain": [
       "'https://www.camara.leg.br/proposicoesWeb/prop_mostrarintegra?codteor=2201291'"
      ]
     },
     "execution_count": 20,
     "metadata": {},
     "output_type": "execute_result"
    }
   ],
   "source": [
    "# Exemplo de texto da redação final\n",
    "\n",
    "writing_url = writing['url_teor_proposicao'][2]\n",
    "writing_url"
   ]
  },
  {
   "cell_type": "code",
   "execution_count": 16,
   "id": "2dd5dd0a-3ea6-47d5-9d4b-1522de10589a",
   "metadata": {},
   "outputs": [],
   "source": [
    "import io\n",
    "import requests\n",
    "import PyPDF2"
   ]
  },
  {
   "cell_type": "code",
   "execution_count": 31,
   "id": "4f2a636f-dd60-4380-8805-9524664f200d",
   "metadata": {},
   "outputs": [
    {
     "data": {
      "text/plain": [
       "403"
      ]
     },
     "execution_count": 31,
     "metadata": {},
     "output_type": "execute_result"
    }
   ],
   "source": [
    "r = requests.get(writing_url)\n",
    "r.status_code"
   ]
  },
  {
   "cell_type": "code",
   "execution_count": 39,
   "id": "9e398906-7908-4b61-a12a-49be46409e3d",
   "metadata": {},
   "outputs": [
    {
     "data": {
      "text/plain": [
       "b'<!DOCTYPE html PUBLIC \"-//W3C//DTD XHTML 1.0 Transitional//EN\" \"http://www.w3.org/TR/xhtml1/DTD/xhtml1-transitional.dtd\">\\n<html xmlns=\"http://www.w3.org/1999/xhtml\" lang=\"pt-br\" xml:lang=\"pt-br\">\\n<head>\\n<meta http-equiv=\"Content-Type\" content=\"text/html; charset=ISO-8859-1\" />\\n<title>Erro de acesso</title>\\n<link rev=\"made\" href=\"mailto:seseg@camara.leg.br\" />\\n<link href=\"https://www.camara.leg.br/proxy-error/pageError.css\" rel=\"stylesheet\" type=\"text/css\" />\\n</head>\\n<body>\\n\\t<div id=\"geralError\">\\n\\t\\t<div id=\"barraCamara\"></div>\\n\\t\\t<div class=\"contentError\">\\n\\t\\t\\t<div class=\"atencao\">\\n\\t\\t\\t\\t<h1>Desculpe-nos!</h1>\\n\\t\\t\\t</div>\\n\\t\\t\\t<div class=\"conteudo\">\\n\\n\\t<div class=\"conteudoBox\">\\n\\t\\t<p>Nossos sistemas autom&aacute;ticos de seguran&ccedil;a impediram que a opera&ccedil;&atilde;o fosse conclu&iacute;da.<p>\\n\\t\\t<p>Isso pode ocorrer quando voc&ecirc; copia dados de outros sites e eles v&ecirc;m com conte&uacute;dos n&atilde;o permitidos.<p>\\n\\t\\t<p>Voc&ecirc; pode <a href=\"javascript:history.back()\" title=\"voltar...\">voltar</a>, revisar o que estava fazendo e tentar novamente.<p>\\n\\t</div>\\n<div class=\"conteudoBox\">\\n\\t<h2>Ajude-nos a oferecer um melhor servi&ccedil;o...</h2>\\n\\t\\n\\t<p>Envie um e-mail para \\n\\t<a href=\"mailto:webmaster@camara.leg.br?Subject=Seguranca%20de%20Rede%20-%20Erro%20de%20Acesso\">\\n\\tceace.cenin@camara.gov.br</a>, contendo:<p>\\n\\t<ul>\\n\\t<li>A descri&ccedil;&atilde;o da opera&ccedil;&atilde;o que voc&ecirc; estava fazendo.</li>\\n\\t<li>As informa&ccedil;&otilde;es sobre o erro, mostradas abaixo (copie e cole no corpo do e-mail):</li>\\n\\t</ul>\\n\\t<form>\\n\\t\\t<textarea rows=\"8\" wrap=\"virtual\" onfocus=\"this.select()\" onclick=\"this.select()\" readonly=\"readonly\">\\nErro: 403\\nServidor: www.camara.leg.br\\nQuando: Friday, 11-Oct-2024 00:00:53 -03\\nTipo: Erro de acesso \\nID: ZwiU5bvHUF7JzbGrs0-TqwAAAC4 \\nURL: /proposicoesWeb/prop_mostrarintegra \\n\\n</textarea>\\n\\t</form>\\n</div>\\n\\n<address>\\n  <a href=\"/\">www.camara.leg.br</a><br />\\n</address>\\n\\t\\t\\t</div>\\n\\t\\t</div>\\t\\t\\n\\t</div>\\n\\n</body>\\n</html>\\n\\n'"
      ]
     },
     "execution_count": 39,
     "metadata": {},
     "output_type": "execute_result"
    }
   ],
   "source": [
    "# request forbidden\n",
    "\n",
    "r = requests.get(writing_url)\n",
    "r.content"
   ]
  },
  {
   "cell_type": "code",
   "execution_count": 40,
   "id": "469b2a8f-768c-4e95-937f-9be7b65e5505",
   "metadata": {},
   "outputs": [
    {
     "data": {
      "text/plain": [
       "'\\nr = requests.get(writing_url)\\nf = io.BytesIO(r.content)\\n\\nreader = PyPDF2.PdfReader(f)\\npages = reader.pages\\ntext = \"\".join([page.extract_text() for page in pages])\\n'"
      ]
     },
     "execution_count": 40,
     "metadata": {},
     "output_type": "execute_result"
    }
   ],
   "source": [
    "'''\n",
    "r = requests.get(writing_url)\n",
    "f = io.BytesIO(r.content)\n",
    "\n",
    "reader = PyPDF2.PdfReader(f)\n",
    "pages = reader.pages\n",
    "text = \"\".join([page.extract_text() for page in pages])\n",
    "'''"
   ]
  },
  {
   "cell_type": "code",
   "execution_count": null,
   "id": "c7f5bb2e-6066-498c-8c14-8629859e7b35",
   "metadata": {},
   "outputs": [],
   "source": []
  }
 ],
 "metadata": {
  "kernelspec": {
   "display_name": "Python 3 (ipykernel)",
   "language": "python",
   "name": "python3"
  },
  "language_info": {
   "codemirror_mode": {
    "name": "ipython",
    "version": 3
   },
   "file_extension": ".py",
   "mimetype": "text/x-python",
   "name": "python",
   "nbconvert_exporter": "python",
   "pygments_lexer": "ipython3",
   "version": "3.10.5"
  }
 },
 "nbformat": 4,
 "nbformat_minor": 5
}
