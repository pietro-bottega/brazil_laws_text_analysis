{
 "cells": [
  {
   "cell_type": "code",
   "execution_count": 1,
   "id": "46314032-50ed-4dfa-a745-b3ac2ed02c7e",
   "metadata": {},
   "outputs": [],
   "source": [
    "import basedosdados as bd\n",
    "import pandas as pd"
   ]
  },
  {
   "cell_type": "markdown",
   "id": "44bbd424-bbab-49bf-bba6-4763200be5bc",
   "metadata": {},
   "source": [
    "## Seleção do período:\n",
    "- desde 2022-01-01, início do atual mandato da câmara de deputados\n",
    "- até 2024-04-01, limite do dataset com acesso gratuito "
   ]
  },
  {
   "cell_type": "markdown",
   "id": "d13147f8-2933-4f47-9dd5-c1b0e4310d11",
   "metadata": {},
   "source": [
    "# Observações\n",
    "\n",
    "### Passo 1: Análise de texto de leis propostas\n",
    "\n",
    "Cada linha da base de dados corresponde a uma proposição, que pode ser de variados tipos.\n",
    "Os que parecem ser mais relevantes são \"Projeto de Lei\" ou \"Redação Final\"\n",
    "A escolha depende de (1) quanto detalhe se quer ter sobre o texto da lei e (2) o quão próximo o texto é da lei que foi votada e talvez aprovada.\n",
    "- (1) Se apenas a emenda (descrição da proposição) for suficiente, dá pra usar no bag of words a coluna \"ementa\" das proposições tipo \"Projeto de Lei\". Se quiser mais detalhe, é melhor usar o texto completo da lei, coluna \"teor_completo\", das proposições tipo \"Redação Final\".\n",
    "- (2) Se quiser o projeto de lei da forma que foi proposto pelo parlamentar, é melhor usar o tipo \"Projeto de Lei\", se quiser a lei como ela foi talvez aprovada ou votada, é melhor usar \"Redação Final\"\n",
    "\n",
    "Caso a escolha seja usar o texto completo (\"teor_completo\") da \"Redação Final\", é preciso encontrar um library que faça a leitura do PDF, e resolver o erro que tive. Também vai ter uma lmiitação de performance por armazenar o texto da web na memória.\n",
    "\n",
    "### Passo 2: Correlação com temas das leis propostas e sua aprovação\n",
    "\n",
    "Essa base de dados tem outras tabelas relacionadas à votação, também com o ID da proposição. Mas precisa investigar mais pra entender qual proposição representa a votação do PL antes de passar à sanção do presidente da república (último passo).\n",
    "\n"
   ]
  },
  {
   "cell_type": "markdown",
   "id": "3897f112-e3a7-4816-ac37-626efff64bdc",
   "metadata": {},
   "source": [
    "## Seleção do tipo de proposição: 'Projeto de Lei' ou 'Redação Final' "
   ]
  },
  {
   "cell_type": "code",
   "execution_count": 2,
   "id": "b0652045-9ce9-4f47-a6e5-1f4ee47cb7e7",
   "metadata": {
    "scrolled": true
   },
   "outputs": [
    {
     "name": "stderr",
     "output_type": "stream",
     "text": [
      "Downloading: 100%|████████████████████████████████████████████████████████████████| 235/235 [00:00<00:00, 651.33rows/s]"
     ]
    },
    {
     "name": "stdout",
     "output_type": "stream",
     "text": [
      "**EXEMPLO DOS DIVERSOS TIPOS DE PROPOSIÇÃO (TOTAL: 235)**\n",
      "Relatório do COI\n",
      "Emenda de Redação\n",
      "Projeto de Lei (CN)\n",
      "Requerimento de Apensação\n",
      "Emenda Aglutinativa de Plenário\n",
      "Constituição de Bloco Parlamentar\n",
      "Sugestão de Emenda à LDO - Comissões\n",
      "Mensagem que Propõe alteração a Projeto\n",
      "Requerimento de Convocação de Autoridade\n",
      "Requerimento de Voto de regozijo ou louvor\n"
     ]
    },
    {
     "name": "stderr",
     "output_type": "stream",
     "text": [
      "\n"
     ]
    }
   ],
   "source": [
    "# SQL query\n",
    "\n",
    "list_types = '''\n",
    "SELECT DISTINCT\n",
    "  sigla,\n",
    "  tipo,\n",
    "FROM `basedosdados.br_camara_dados_abertos.proposicao_microdados` AS dados\n",
    "WHERE (dados.data > '2022-01-01' AND dados.data < '2024-04-01')\n",
    "'''\n",
    "\n",
    "# Read query via 'Base dos dados' Google Cloud API\n",
    "projects_list = bd.read_sql(list_types, billing_project_id='anpec-base-dos-dados')\n",
    "\n",
    "print('**EXEMPLO DOS DIVERSOS TIPOS DE PROPOSIÇÃO (TOTAL: 235)**')\n",
    "for n in projects_list['tipo'][:10]:\n",
    "    print(n)"
   ]
  },
  {
   "cell_type": "markdown",
   "id": "97c52848-da68-4098-9f87-2ed2fb3f2f4d",
   "metadata": {},
   "source": [
    "- [Projeto de Lei](https://www.congressonacional.leg.br/legislacao-e-publicacoes/glossario-legislativo/-/legislativo/termo/projeto_de_lei_pl) - Proposição de uma lei ordinária, vai ser sancionado (aprovado) pelo presidente da república\n",
    "- [Projeto de Lei Complementar](https://www.congressonacional.leg.br/legislacao-e-publicacoes/glossario-legislativo/-/legislativo/termo/lei_complementar_lc) - adiciona detalhes a uma lei já aprovada\n",
    "- [Redação Final](https://www.congressonacional.leg.br/legislacao-e-publicacoes/glossario-legislativo/-/legislativo/termo/redacao_final) - texto do projeto de lei a ser votado pelo plenário da câmara\n",
    "\n",
    "  **Projeto de lei é a lei quando recém proposta, ainda precisando ser votada pela plenária da câmara e senado (quando se aplica). Redação final é o projeto já ajustado pela Câmara e Senado, antes de ir para sanção (aprovação) do Presidente da República**\n",
    "\n",
    "[Processo legislativo](https://www.camara.leg.br/entenda-o-processo-legislativo/)"
   ]
  },
  {
   "cell_type": "markdown",
   "id": "c0ebe9e2-369e-42e5-a88e-569a74d06e53",
   "metadata": {},
   "source": [
    "## Detalhamento do tipo 'Projeto de Lei'"
   ]
  },
  {
   "cell_type": "code",
   "execution_count": 3,
   "id": "056b7e6d-30fe-4652-9564-86d1d7eee289",
   "metadata": {},
   "outputs": [
    {
     "name": "stderr",
     "output_type": "stream",
     "text": [
      "Downloading: 100%|█████████████████████████████████████████████████████████████| 8904/8904 [00:02<00:00, 3716.67rows/s]\n"
     ]
    }
   ],
   "source": [
    "# SQL query\n",
    "\n",
    "query_projects = '''\n",
    "SELECT DISTINCT\n",
    "  sigla,\n",
    "  tipo,\n",
    "  ementa,\n",
    "  ementa_detalhada,\n",
    "  palavra_chave,\n",
    "  situacao_ultimo_status,\n",
    "  apreciacao_ultimo_status,\n",
    "  url_teor_proposicao,\n",
    "  id_proposicao\n",
    "FROM `basedosdados.br_camara_dados_abertos.proposicao_microdados` AS dados\n",
    "WHERE (dados.data > '2022-01-01' AND dados.data < '2024-04-01')\n",
    "AND dados.tipo = 'Projeto de Lei'\n",
    "'''\n",
    "\n",
    "# Read query via 'Base dos dados' Google Cloud API\n",
    "projects = bd.read_sql(query_projects, billing_project_id='anpec-base-dos-dados')"
   ]
  },
  {
   "cell_type": "code",
   "execution_count": 4,
   "id": "0e933c92-f614-4672-98cb-bb90622bcda1",
   "metadata": {},
   "outputs": [
    {
     "data": {
      "text/plain": [
       "Projeto de Lei    8904\n",
       "Name: tipo, dtype: int64"
      ]
     },
     "execution_count": 4,
     "metadata": {},
     "output_type": "execute_result"
    }
   ],
   "source": [
    "# contagem de projetos de lei no período\n",
    "\n",
    "projects[projects['tipo'] == \"Projeto de Lei\"]['tipo'].value_counts()"
   ]
  },
  {
   "cell_type": "code",
   "execution_count": 5,
   "id": "8b1d8746-595e-4bfa-b9d9-b723819f52a2",
   "metadata": {
    "scrolled": true
   },
   "outputs": [
    {
     "name": "stdout",
     "output_type": "stream",
     "text": [
      "Altera a Lei nº 12.651, de 25 de maio de 2012 (Código Florestal), para permitir, nas Áreas de Preservação Permanente (APPs) dos imóveis rurais, a construção de reservatórios para irrigação nas condições que especifica.\n",
      "Altera a Lei nº 10.826, de 22 de dezembro de de 2003, que dispõe sobre registro, posse e comercialização de armas de fogo e munição, sobre o Sistema Nacional de Armas – Sinarm, define crimes e dá outras providências.\n",
      "Altera as Leis n.º 7.210, de 11 de julho de 1984 – Lei de Execução Penal, n.º 8.112, de 11 de dezembro de 1990 – Estatuto dos Servidores Públicos Civis da União e n.º 13.869, de 5 de setembro de 2019 – Lei de Abuso de Autoridade, para, cumprindo o disposto na Convenção Interamericana para Prevenir, Punir e Erradicar a Violência contra a Mulher e na Convenção sobre a Eliminação de Todas as Formas de Discriminação contra a Mulher, dos quais o Brasil é signatário,  prever medidas que reforçam a prevenção e o combate à violência contra a mulher, inclusive em seu ambiente de trabalho.\n",
      "Institui o sistema nacional de logística reversa de resíduos têxteis após o descarte, para fins de conservação e preservação do meio ambiente, com a participação incentivada de fabricantes, importadores, distribuidores, comerciantes e consumidores do produto, altera redação dos artigos 33 e 34 da Lei nº 12.305, de 2 de agosto de 2010, e dá outras providências.\n",
      "Altera a Lei nº 12.527, de 18 de novembro de 2011 -  Lei de Acesso à Informação - para incluir a obrigatoriedade da divulgação das hospitalidades oferecidas por agentes privados para a participação de agentes públicos em cursos, seminários, congressos e eventos.\n"
     ]
    }
   ],
   "source": [
    "# campo de emenda é a descrição do projeto de lei\n",
    "\n",
    "for n in projects['ementa'][:5]:\n",
    "    print(n)"
   ]
  },
  {
   "cell_type": "code",
   "execution_count": 6,
   "id": "42130f30-e6a8-42c0-9049-fbd833206a68",
   "metadata": {},
   "outputs": [
    {
     "name": "stdout",
     "output_type": "stream",
     "text": [
      "Alteração, Código Florestal (2012), diretrizes, autorização, construção, Reservatório d'água, Área de Preservação Permanente (APP), Imóvel rural.\n",
      "Alteração, Estatuto do Desarmamento, expedição, Certificado de Registro de Arma de Fogo, autoridade competente, Sistema Nacional de Armas (Sinarm), Sistema de Gerenciamento Militar de Armas (SIGMA), documento, direito de propriedade, arma de fogo. _Requisito, aquisição, arma de fogo, comprovação, idoneidade, substituição, certidão de objeto e pé, quantidade. _ Certificado de Registro de Arma de Fogo, autorização, proprietário, transporte, arma de fogo, ausência, munição. _ Porte de arma, validade, território nacional, caráter pessoal, intransferibilidade. _Autorização, utilização, arma, acervo museológico, tiro esportivo, caça, coleção, defesa pessoa, Legítima defesa. _Competência, Ministério da Justiça e Segurança Pública, autorização, porte de arma, responsável legal, segurança, estrangeiro. _Classificação, arma, uso permitido. _Taxa, emissão, porte de arma. _Aquisição, arma, Comando militar de área.\n",
      "Política pública, prevenção, violência contra a mulher. _Diretrizes, inclusão, conteúdo educativo, educação infantil, educação básica, ensino fundamental, ensino médio, direitos, mulher. _Poder público, campanha educativa, serviços públicos, orientação, mulher. _Alteração, Lei de Abuso de Autoridade (2019), tipicidade penal, crime, ausência, cumprimento, diretrizes, atendimento, mulher, vítima, violência. _Filmagem, fotografia, agressor, violência contra a mulher, flagrante delito. _Alteração, Lei de Execução Penal, critério, progressão de regime prisional, monitoração eletrônica, preso condenado, crime contra a mulher. _Alteração, Regime Jurídico Único dos Servidores Públicos Civis da União, critério, afastamento preventivo de servidor, crime contra a mulher, ambiente de trabalho.\n",
      "Criação, Sistema de Logística Reversa de Resíduos Têxteis, logística reversa, resíduo têxtil, embalagem do produto, posterioridade, descarte, participação, fabricante, empresa importadora, distribuidor, comerciante, consumidor, definição, objeto da lei, finalidade, conservação, preservação, meio ambiente, estruturação, implementação, Sistema de logística reversa, obrigações, responsabilidade, penalidade, disposição final. _Alteração, Lei de resíduos sólidos, obrigatoriedade, estruturação, implementação, Sistema de logística reversa, resíduo têxtil, embalagem do produto.\n",
      "Alteração, Lei de Acesso à Informação, obrigatoriedade, divulgação, órgão público, Entidade pública, valor, hospitalidade, oferecimento, agente privado, participação, agente público, seminário, congresso, evento.\n"
     ]
    }
   ],
   "source": [
    "# a própria base de dados já tem um label com palavras chaves do projeto de lei\n",
    "\n",
    "for n in projects['palavra_chave'][:5]:\n",
    "    print(n)"
   ]
  },
  {
   "cell_type": "code",
   "execution_count": 7,
   "id": "2e3fd3e4-3fd3-4f5e-8ba0-d0e822a42a34",
   "metadata": {},
   "outputs": [
    {
     "data": {
      "text/plain": [
       "Tramitando em Conjunto              4343\n",
       "Aguardando Designação de Relator    1402\n",
       "Aguardando Parecer                  1228\n",
       "Pronta para Pauta                    427\n",
       "Arquivada                            240\n",
       "Name: situacao_ultimo_status, dtype: int64"
      ]
     },
     "execution_count": 7,
     "metadata": {},
     "output_type": "execute_result"
    }
   ],
   "source": [
    "# status da proposta, não consegui encontrar algo que indique se o projeto de lei foi aprovado\n",
    "\n",
    "projects['situacao_ultimo_status'].value_counts().head(5)"
   ]
  },
  {
   "cell_type": "code",
   "execution_count": 8,
   "id": "f98246a8-7fb8-49ad-8111-cabededa6173",
   "metadata": {},
   "outputs": [
    {
     "data": {
      "text/plain": [
       "'Altera a Lei nº 10.826, de 22 de dezembro de de 2003, que dispõe sobre registro, posse e comercialização de armas de fogo e munição, sobre o Sistema Nacional de Armas – Sinarm, define crimes e dá outras providências.'"
      ]
     },
     "execution_count": 8,
     "metadata": {},
     "output_type": "execute_result"
    }
   ],
   "source": [
    "# exemplo de ementa\n",
    "\n",
    "projects['ementa'][1]"
   ]
  },
  {
   "cell_type": "code",
   "execution_count": 9,
   "id": "52c8b40c-1166-4e61-b315-ef798e6d005a",
   "metadata": {},
   "outputs": [
    {
     "data": {
      "text/plain": [
       "'https://www.camara.leg.br/proposicoesWeb/prop_mostrarintegra?codteor=2206154'"
      ]
     },
     "execution_count": 9,
     "metadata": {},
     "output_type": "execute_result"
    }
   ],
   "source": [
    "# exemplo de texto completo do projeto de lei\n",
    "\n",
    "project_url = projects['url_teor_proposicao'][1]\n",
    "project_url"
   ]
  },
  {
   "cell_type": "markdown",
   "id": "5cb86921-1cae-4a73-9c5d-dc858206d85c",
   "metadata": {},
   "source": [
    "## Detalhamento do tipo 'Redação Final'"
   ]
  },
  {
   "cell_type": "code",
   "execution_count": 10,
   "id": "11830828-838d-4b6f-ba51-540ce927f7b6",
   "metadata": {},
   "outputs": [
    {
     "name": "stderr",
     "output_type": "stream",
     "text": [
      "Downloading: 100%|█████████████████████████████████████████████████████████████| 1559/1559 [00:00<00:00, 1851.22rows/s]\n"
     ]
    }
   ],
   "source": [
    "# SQL query\n",
    "\n",
    "query_writing = '''\n",
    "SELECT DISTINCT\n",
    "  sigla,\n",
    "  tipo,\n",
    "  ementa,\n",
    "  ementa_detalhada,\n",
    "  palavra_chave,\n",
    "  situacao_ultimo_status,\n",
    "  apreciacao_ultimo_status,\n",
    "  url_teor_proposicao\n",
    "FROM `basedosdados.br_camara_dados_abertos.proposicao_microdados` AS dados\n",
    "WHERE (dados.data > '2022-01-01' AND dados.data < '2024-04-01')\n",
    "AND dados.tipo = 'Redação Final'\n",
    "'''\n",
    "\n",
    "# Read query via 'Base dos dados' Google Cloud API\n",
    "writing = bd.read_sql(query_writing, billing_project_id='anpec-base-dos-dados')"
   ]
  },
  {
   "cell_type": "code",
   "execution_count": 11,
   "id": "e1e368d7-0b65-4dcf-8003-abad38646a8b",
   "metadata": {},
   "outputs": [
    {
     "data": {
      "text/plain": [
       "Redação Final    1559\n",
       "Name: tipo, dtype: int64"
      ]
     },
     "execution_count": 11,
     "metadata": {},
     "output_type": "execute_result"
    }
   ],
   "source": [
    "# contagem de redações finais, menos do que projetos de lei, já que ela seria um estágio mais avançad\n",
    "\n",
    "writing[writing['tipo'] == \"Redação Final\"]['tipo'].value_counts()"
   ]
  },
  {
   "cell_type": "code",
   "execution_count": 12,
   "id": "bc6552c6-9854-492f-b722-1e102e411648",
   "metadata": {},
   "outputs": [
    {
     "name": "stdout",
     "output_type": "stream",
     "text": [
      "Redação Final do PL 327/23\n",
      "Redação final do PDL 599/21\n",
      "Redação Final  do PL 119/2019\n",
      "Dispõe sobre os procedimentos para a denominação de instituições públicas de ensino indígenas, quilombolas e do campo no território nacional.\n",
      "Redação Final do PL 1199/22.\n"
     ]
    }
   ],
   "source": [
    "# ementa da redação final não é uma descrição tão boa, em muitas linhas só é a referência a um projeto de lei\n",
    "\n",
    "for n in writing['ementa'][92:97]:\n",
    "    print(n)"
   ]
  },
  {
   "cell_type": "code",
   "execution_count": 13,
   "id": "cdab9d42-9cb4-40c6-89d4-ca4633bd0617",
   "metadata": {},
   "outputs": [
    {
     "data": {
      "text/plain": [
       "Aguardando Providências Internas             400\n",
       "Pronta para Pauta                             77\n",
       "Aguardando Leitura e Publicação                1\n",
       "Aguardando Recebimento                         1\n",
       "Aguardando Apreciação pelo Senado Federal      1\n",
       "Name: situacao_ultimo_status, dtype: int64"
      ]
     },
     "execution_count": 13,
     "metadata": {},
     "output_type": "execute_result"
    }
   ],
   "source": [
    "# status da proposta, não consegui encontrar algo que indique se o projeto de lei foi aprovado\n",
    "\n",
    "writing['situacao_ultimo_status'].value_counts()"
   ]
  },
  {
   "cell_type": "code",
   "execution_count": 14,
   "id": "1ae38c48-d044-46ca-a8d8-a223b3b15054",
   "metadata": {},
   "outputs": [
    {
     "data": {
      "text/plain": [
       "'Redação Final do PDL 219/22.'"
      ]
     },
     "execution_count": 14,
     "metadata": {},
     "output_type": "execute_result"
    }
   ],
   "source": [
    "# Exemplo de ementa\n",
    "\n",
    "writing['ementa'][1]"
   ]
  },
  {
   "cell_type": "markdown",
   "id": "6800179a-9baa-4346-ab33-d6e728386f8d",
   "metadata": {},
   "source": [
    "## Teste de extração da arquivo de PDF da Emenda Final"
   ]
  },
  {
   "cell_type": "code",
   "execution_count": 15,
   "id": "ea7cbb94-d8b6-418e-a3cf-575b7fcb2a0c",
   "metadata": {},
   "outputs": [
    {
     "data": {
      "text/plain": [
       "'https://www.camara.leg.br/proposicoesWeb/prop_mostrarintegra?codteor=2270514'"
      ]
     },
     "execution_count": 15,
     "metadata": {},
     "output_type": "execute_result"
    }
   ],
   "source": [
    "# Exemplo de texto da redação final\n",
    "\n",
    "writing_url = writing['url_teor_proposicao'][2]\n",
    "writing_url"
   ]
  },
  {
   "cell_type": "code",
   "execution_count": 16,
   "id": "2dd5dd0a-3ea6-47d5-9d4b-1522de10589a",
   "metadata": {},
   "outputs": [],
   "source": [
    "import io\n",
    "import requests\n",
    "import PyPDF2"
   ]
  },
  {
   "cell_type": "code",
   "execution_count": 17,
   "id": "4f2a636f-dd60-4380-8805-9524664f200d",
   "metadata": {},
   "outputs": [
    {
     "data": {
      "text/plain": [
       "403"
      ]
     },
     "execution_count": 17,
     "metadata": {},
     "output_type": "execute_result"
    }
   ],
   "source": [
    "r = requests.get(writing_url)\n",
    "r.status_code"
   ]
  },
  {
   "cell_type": "code",
   "execution_count": 18,
   "id": "9e398906-7908-4b61-a12a-49be46409e3d",
   "metadata": {},
   "outputs": [
    {
     "data": {
      "text/plain": [
       "b'<!DOCTYPE html PUBLIC \"-//W3C//DTD XHTML 1.0 Transitional//EN\" \"http://www.w3.org/TR/xhtml1/DTD/xhtml1-transitional.dtd\">\\n<html xmlns=\"http://www.w3.org/1999/xhtml\" lang=\"pt-br\" xml:lang=\"pt-br\">\\n<head>\\n<meta http-equiv=\"Content-Type\" content=\"text/html; charset=ISO-8859-1\" />\\n<title>Erro de acesso</title>\\n<link rev=\"made\" href=\"mailto:seseg@camara.leg.br\" />\\n<link href=\"https://www.camara.leg.br/proxy-error/pageError.css\" rel=\"stylesheet\" type=\"text/css\" />\\n</head>\\n<body>\\n\\t<div id=\"geralError\">\\n\\t\\t<div id=\"barraCamara\"></div>\\n\\t\\t<div class=\"contentError\">\\n\\t\\t\\t<div class=\"atencao\">\\n\\t\\t\\t\\t<h1>Desculpe-nos!</h1>\\n\\t\\t\\t</div>\\n\\t\\t\\t<div class=\"conteudo\">\\n\\n\\t<div class=\"conteudoBox\">\\n\\t\\t<p>Nossos sistemas autom&aacute;ticos de seguran&ccedil;a impediram que a opera&ccedil;&atilde;o fosse conclu&iacute;da.<p>\\n\\t\\t<p>Isso pode ocorrer quando voc&ecirc; copia dados de outros sites e eles v&ecirc;m com conte&uacute;dos n&atilde;o permitidos.<p>\\n\\t\\t<p>Voc&ecirc; pode <a href=\"javascript:history.back()\" title=\"voltar...\">voltar</a>, revisar o que estava fazendo e tentar novamente.<p>\\n\\t</div>\\n<div class=\"conteudoBox\">\\n\\t<h2>Ajude-nos a oferecer um melhor servi&ccedil;o...</h2>\\n\\t\\n\\t<p>Envie um e-mail para \\n\\t<a href=\"mailto:webmaster@camara.leg.br?Subject=Seguranca%20de%20Rede%20-%20Erro%20de%20Acesso\">\\n\\tceace.cenin@camara.gov.br</a>, contendo:<p>\\n\\t<ul>\\n\\t<li>A descri&ccedil;&atilde;o da opera&ccedil;&atilde;o que voc&ecirc; estava fazendo.</li>\\n\\t<li>As informa&ccedil;&otilde;es sobre o erro, mostradas abaixo (copie e cole no corpo do e-mail):</li>\\n\\t</ul>\\n\\t<form>\\n\\t\\t<textarea rows=\"8\" wrap=\"virtual\" onfocus=\"this.select()\" onclick=\"this.select()\" readonly=\"readonly\">\\nErro: 403\\nServidor: www.camara.leg.br\\nQuando: Tuesday, 15-Oct-2024 18:31:36 -03\\nTipo: Erro de acesso \\nID: Zw7fON-XMl1IPXfoPDu2wQAAAFw \\nURL: /proposicoesWeb/prop_mostrarintegra \\n\\n</textarea>\\n\\t</form>\\n</div>\\n\\n<address>\\n  <a href=\"/\">www.camara.leg.br</a><br />\\n</address>\\n\\t\\t\\t</div>\\n\\t\\t</div>\\t\\t\\n\\t</div>\\n\\n</body>\\n</html>\\n\\n'"
      ]
     },
     "execution_count": 18,
     "metadata": {},
     "output_type": "execute_result"
    }
   ],
   "source": [
    "# request forbidden\n",
    "\n",
    "r = requests.get(writing_url)\n",
    "r.content"
   ]
  },
  {
   "cell_type": "code",
   "execution_count": 19,
   "id": "469b2a8f-768c-4e95-937f-9be7b65e5505",
   "metadata": {},
   "outputs": [
    {
     "data": {
      "text/plain": [
       "'\\nr = requests.get(writing_url)\\nf = io.BytesIO(r.content)\\n\\nreader = PyPDF2.PdfReader(f)\\npages = reader.pages\\ntext = \"\".join([page.extract_text() for page in pages])\\n'"
      ]
     },
     "execution_count": 19,
     "metadata": {},
     "output_type": "execute_result"
    }
   ],
   "source": [
    "'''\n",
    "r = requests.get(writing_url)\n",
    "f = io.BytesIO(r.content)\n",
    "\n",
    "reader = PyPDF2.PdfReader(f)\n",
    "pages = reader.pages\n",
    "text = \"\".join([page.extract_text() for page in pages])\n",
    "'''"
   ]
  },
  {
   "cell_type": "markdown",
   "id": "94457012-473a-4acc-aacd-e495eab22376",
   "metadata": {},
   "source": [
    "### Testing bag of words"
   ]
  },
  {
   "cell_type": "code",
   "execution_count": 20,
   "id": "63e5d325-c8a5-42a3-b873-e886188fb051",
   "metadata": {},
   "outputs": [
    {
     "name": "stdout",
     "output_type": "stream",
     "text": [
      "<class 'pandas.core.frame.DataFrame'>\n",
      "RangeIndex: 8904 entries, 0 to 8903\n",
      "Data columns (total 9 columns):\n",
      " #   Column                    Non-Null Count  Dtype \n",
      "---  ------                    --------------  ----- \n",
      " 0   sigla                     8904 non-null   object\n",
      " 1   tipo                      8904 non-null   object\n",
      " 2   ementa                    8904 non-null   object\n",
      " 3   ementa_detalhada          367 non-null    object\n",
      " 4   palavra_chave             7475 non-null   object\n",
      " 5   situacao_ultimo_status    8522 non-null   object\n",
      " 6   apreciacao_ultimo_status  8904 non-null   object\n",
      " 7   url_teor_proposicao       8904 non-null   object\n",
      " 8   id_proposicao             8904 non-null   object\n",
      "dtypes: object(9)\n",
      "memory usage: 626.2+ KB\n"
     ]
    }
   ],
   "source": [
    "projects.info()"
   ]
  },
  {
   "cell_type": "code",
   "execution_count": 21,
   "id": "e067a1e1-dbcd-4903-86b5-1fd88ad7009f",
   "metadata": {},
   "outputs": [
    {
     "name": "stdout",
     "output_type": "stream",
     "text": [
      "<class 'pandas.core.frame.DataFrame'>\n",
      "RangeIndex: 8904 entries, 0 to 8903\n",
      "Data columns (total 2 columns):\n",
      " #   Column         Non-Null Count  Dtype \n",
      "---  ------         --------------  ----- \n",
      " 0   id_proposicao  8904 non-null   object\n",
      " 1   ementa         8904 non-null   object\n",
      "dtypes: object(2)\n",
      "memory usage: 139.2+ KB\n"
     ]
    }
   ],
   "source": [
    "law_description = projects[['id_proposicao','ementa']]\n",
    "law_description.info()"
   ]
  },
  {
   "cell_type": "code",
   "execution_count": 73,
   "id": "2b835fb5-dd67-4a25-820a-76f4e39b6b93",
   "metadata": {},
   "outputs": [],
   "source": [
    "import nltk\n",
    "from nltk.stem import WordNetLemmatizer as wnl\n",
    "from nltk.corpus import stopwords\n",
    "from nltk.corpus import wordnet\n",
    "import re"
   ]
  },
  {
   "cell_type": "markdown",
   "id": "79a21a79-5efa-463e-8b94-55b78204a66d",
   "metadata": {},
   "source": [
    "# 1. Lemmatization\n",
    "Lemmatization is a text pre-processing technique to break a word down to its root meaning to identify similarities.\n",
    "<br> For example, a lemmatization algorithm would reduce the word better to its root word, or lemme, good.\n",
    "<br> Although NLTK wordnet moddule supports other languages, including porutgues, from the Open Multilingual Wordnet, WordNetLemmatizer uses a english wordnet only (or as far as I could set up)"
   ]
  },
  {
   "cell_type": "markdown",
   "id": "f089c0bf-7438-4e62-a085-618d3ac9b669",
   "metadata": {},
   "source": [
    "## 1.1. NLTK\n",
    "Although NLTK wordnet moddule supports other languages, including porutgues, from the Open Multilingual Wordnet, WordNetLemmatizer uses a english wordnet only (or as far as I could set up)"
   ]
  },
  {
   "cell_type": "code",
   "execution_count": 128,
   "id": "302a1c38-ca7c-4a47-9631-4bbfdf5fcd64",
   "metadata": {},
   "outputs": [],
   "source": [
    "def preprocessing(text):\n",
    "    wnl = WordNetLemmatizer()\n",
    "    \n",
    "    text = text.split()\n",
    "    text = [wnl.lemmatize(word) for word in text if not word in set(nltk.corpus.stopwords.words('english'))]\n",
    "\n",
    "    return text"
   ]
  },
  {
   "cell_type": "code",
   "execution_count": 129,
   "id": "273f07b7-33cd-4cfe-ba5f-8e64d9ebd89b",
   "metadata": {},
   "outputs": [
    {
     "data": {
      "text/plain": [
       "['The',\n",
       " 'goal',\n",
       " 'project',\n",
       " 'make',\n",
       " 'easy',\n",
       " 'use',\n",
       " 'wordnet',\n",
       " 'multiple',\n",
       " 'language']"
      ]
     },
     "execution_count": 129,
     "metadata": {},
     "output_type": "execute_result"
    }
   ],
   "source": [
    "test_eng = 'The goal of this project is to make it easy to use wordnets in multiple languages'\n",
    "\n",
    "preprocessing(test_eng)"
   ]
  },
  {
   "cell_type": "markdown",
   "id": "348048e1-6abf-4dd0-8dbd-4bb3297b993e",
   "metadata": {},
   "source": [
    "## 1.2. Spacy\n",
    "Spacy uses a ML approach, from a pre-defined corpus in different sizes"
   ]
  },
  {
   "cell_type": "code",
   "execution_count": 224,
   "id": "6216aeab-9ae0-478a-b6ec-2190bc290a96",
   "metadata": {},
   "outputs": [],
   "source": [
    "nlp = spacy.load('pt_core_news_sm',disable=[\"tagger\", \"parser\",\"ner\",\"tok2vek\"])"
   ]
  },
  {
   "cell_type": "code",
   "execution_count": 142,
   "id": "cfa57e43-a0e5-4462-8195-036feae38760",
   "metadata": {},
   "outputs": [],
   "source": [
    "def preprocessing_spacy(text):    \n",
    "    \n",
    "    doc = nlp.pipe(text)\n",
    "    text = [token.lemma_ for token in doc if token.pos_ == 'NOUN' or token.pos_ == 'PROPN' and token.dep_ != 'punct']\n",
    "    text = ' '.join(text)\n",
    "    text= text.lower().strip()\n",
    "    \n",
    "    return text"
   ]
  },
  {
   "cell_type": "code",
   "execution_count": 143,
   "id": "9d703616-b2f0-48b0-aec5-2ca21e49043c",
   "metadata": {},
   "outputs": [
    {
     "ename": "AttributeError",
     "evalue": "'spacy.tokens.doc.Doc' object has no attribute 'pos_'",
     "output_type": "error",
     "traceback": [
      "\u001b[1;31m---------------------------------------------------------------------------\u001b[0m",
      "\u001b[1;31mAttributeError\u001b[0m                            Traceback (most recent call last)",
      "Cell \u001b[1;32mIn[143], line 3\u001b[0m\n\u001b[0;32m      1\u001b[0m test \u001b[38;5;241m=\u001b[39m law_description[\u001b[38;5;124m'\u001b[39m\u001b[38;5;124mementa\u001b[39m\u001b[38;5;124m'\u001b[39m][:\u001b[38;5;241m2\u001b[39m]\n\u001b[1;32m----> 3\u001b[0m \u001b[43mpreprocessing_spacy\u001b[49m\u001b[43m(\u001b[49m\u001b[43mtest\u001b[49m\u001b[43m)\u001b[49m\n",
      "Cell \u001b[1;32mIn[142], line 4\u001b[0m, in \u001b[0;36mpreprocessing_spacy\u001b[1;34m(text)\u001b[0m\n\u001b[0;32m      1\u001b[0m \u001b[38;5;28;01mdef\u001b[39;00m \u001b[38;5;21mpreprocessing_spacy\u001b[39m(text):    \n\u001b[0;32m      3\u001b[0m     doc \u001b[38;5;241m=\u001b[39m \u001b[38;5;28mlist\u001b[39m(nlp\u001b[38;5;241m.\u001b[39mpipe(text))\n\u001b[1;32m----> 4\u001b[0m     text \u001b[38;5;241m=\u001b[39m [token\u001b[38;5;241m.\u001b[39mlemma_ \u001b[38;5;28;01mfor\u001b[39;00m token \u001b[38;5;129;01min\u001b[39;00m doc \u001b[38;5;28;01mif\u001b[39;00m token\u001b[38;5;241m.\u001b[39mpos_ \u001b[38;5;241m==\u001b[39m \u001b[38;5;124m'\u001b[39m\u001b[38;5;124mNOUN\u001b[39m\u001b[38;5;124m'\u001b[39m \u001b[38;5;129;01mor\u001b[39;00m token\u001b[38;5;241m.\u001b[39mpos_ \u001b[38;5;241m==\u001b[39m \u001b[38;5;124m'\u001b[39m\u001b[38;5;124mPROPN\u001b[39m\u001b[38;5;124m'\u001b[39m \u001b[38;5;129;01mand\u001b[39;00m token\u001b[38;5;241m.\u001b[39mdep_ \u001b[38;5;241m!=\u001b[39m \u001b[38;5;124m'\u001b[39m\u001b[38;5;124mpunct\u001b[39m\u001b[38;5;124m'\u001b[39m]\n\u001b[0;32m      5\u001b[0m     text \u001b[38;5;241m=\u001b[39m \u001b[38;5;124m'\u001b[39m\u001b[38;5;124m \u001b[39m\u001b[38;5;124m'\u001b[39m\u001b[38;5;241m.\u001b[39mjoin(text)\n\u001b[0;32m      6\u001b[0m     text\u001b[38;5;241m=\u001b[39m text\u001b[38;5;241m.\u001b[39mlower()\u001b[38;5;241m.\u001b[39mstrip()\n",
      "Cell \u001b[1;32mIn[142], line 4\u001b[0m, in \u001b[0;36m<listcomp>\u001b[1;34m(.0)\u001b[0m\n\u001b[0;32m      1\u001b[0m \u001b[38;5;28;01mdef\u001b[39;00m \u001b[38;5;21mpreprocessing_spacy\u001b[39m(text):    \n\u001b[0;32m      3\u001b[0m     doc \u001b[38;5;241m=\u001b[39m \u001b[38;5;28mlist\u001b[39m(nlp\u001b[38;5;241m.\u001b[39mpipe(text))\n\u001b[1;32m----> 4\u001b[0m     text \u001b[38;5;241m=\u001b[39m [token\u001b[38;5;241m.\u001b[39mlemma_ \u001b[38;5;28;01mfor\u001b[39;00m token \u001b[38;5;129;01min\u001b[39;00m doc \u001b[38;5;28;01mif\u001b[39;00m \u001b[43mtoken\u001b[49m\u001b[38;5;241;43m.\u001b[39;49m\u001b[43mpos_\u001b[49m \u001b[38;5;241m==\u001b[39m \u001b[38;5;124m'\u001b[39m\u001b[38;5;124mNOUN\u001b[39m\u001b[38;5;124m'\u001b[39m \u001b[38;5;129;01mor\u001b[39;00m token\u001b[38;5;241m.\u001b[39mpos_ \u001b[38;5;241m==\u001b[39m \u001b[38;5;124m'\u001b[39m\u001b[38;5;124mPROPN\u001b[39m\u001b[38;5;124m'\u001b[39m \u001b[38;5;129;01mand\u001b[39;00m token\u001b[38;5;241m.\u001b[39mdep_ \u001b[38;5;241m!=\u001b[39m \u001b[38;5;124m'\u001b[39m\u001b[38;5;124mpunct\u001b[39m\u001b[38;5;124m'\u001b[39m]\n\u001b[0;32m      5\u001b[0m     text \u001b[38;5;241m=\u001b[39m \u001b[38;5;124m'\u001b[39m\u001b[38;5;124m \u001b[39m\u001b[38;5;124m'\u001b[39m\u001b[38;5;241m.\u001b[39mjoin(text)\n\u001b[0;32m      6\u001b[0m     text\u001b[38;5;241m=\u001b[39m text\u001b[38;5;241m.\u001b[39mlower()\u001b[38;5;241m.\u001b[39mstrip()\n",
      "\u001b[1;31mAttributeError\u001b[0m: 'spacy.tokens.doc.Doc' object has no attribute 'pos_'"
     ]
    }
   ],
   "source": [
    "test = law_description['ementa'][:2]\n",
    "\n",
    "preprocessing_spacy(test)"
   ]
  },
  {
   "cell_type": "code",
   "execution_count": 137,
   "id": "4cc58d06-e6b8-45a0-a9f1-76824acdf87e",
   "metadata": {},
   "outputs": [
    {
     "name": "stdout",
     "output_type": "stream",
     "text": [
      "Altera as Leis n.º 7.210, de 11 de julho de 1984 – Lei de Execução Penal, n.º 8.112, de 11 de dezembro de 1990 – Estatuto dos Servidores Públicos Civis da União e n.º 13.869, de 5 de setembro de 2019 – Lei de Abuso de Autoridade, para, cumprindo o disposto na Convenção Interamericana para Prevenir, Punir e Erradicar a Violência contra a Mulher e na Convenção sobre a Eliminação de Todas as Formas de Discriminação contra a Mulher, dos quais o Brasil é signatário,  prever medidas que reforçam a prevenção e o combate à violência contra a mulher, inclusive em seu ambiente de trabalho.\n",
      "Altera PROPN ROOT\n",
      "as DET det\n",
      "Leis NOUN nsubj\n",
      "n.º ADV advmod\n",
      "7.210 NUM parataxis\n",
      ", PUNCT punct\n",
      "de ADP case\n",
      "11 NUM obl\n",
      "de ADP case\n",
      "julho NOUN nmod\n",
      "de ADP case\n",
      "1984 NUM nmod\n",
      "– PROPN punct\n",
      "Lei PROPN nsubj\n",
      "de ADP case\n",
      "Execução PROPN nmod\n",
      "Penal PROPN flat:name\n",
      ", PUNCT punct\n",
      "n.º SYM advmod\n",
      "8.112 NUM nummod\n",
      ", PUNCT punct\n",
      "de ADP case\n",
      "11 NUM obl\n",
      "de ADP case\n",
      "dezembro NOUN nmod\n",
      "de ADP case\n",
      "1990 NUM nmod\n",
      "– PROPN punct\n",
      "Estatuto PROPN ROOT\n",
      "dos ADP case\n",
      "Servidores PROPN nmod\n",
      "Públicos ADJ flat:name\n",
      "Civis PROPN flat:name\n",
      "da ADP case\n",
      "União PROPN nmod\n",
      "e CCONJ cc\n",
      "n.º NOUN conj\n",
      "13.869 NUM nummod\n",
      ", PUNCT punct\n",
      "de ADP case\n",
      "5 NUM nmod\n",
      "de ADP case\n",
      "setembro NOUN nmod\n",
      "de ADP case\n",
      "2019 NUM nmod\n",
      "– PUNCT punct\n",
      "Lei PROPN appos\n",
      "de ADP case\n",
      "Abuso PROPN nmod\n",
      "de ADP case\n",
      "Autoridade PROPN nmod\n",
      ", PUNCT punct\n",
      "para SCONJ dep\n",
      ", PUNCT punct\n",
      "cumprindo VERB advcl\n",
      "o DET det\n",
      "disposto NOUN obj\n",
      "na ADP case\n",
      "Convenção PROPN obl\n",
      "Interamericana PROPN flat:name\n",
      "para ADP case\n",
      "Prevenir PROPN obl\n",
      ", PUNCT punct\n",
      "Punir PROPN conj\n",
      "e CCONJ cc\n",
      "Erradicar PROPN conj\n",
      "a DET case\n",
      "Violência PROPN obj\n",
      "contra ADP case\n",
      "a DET det\n",
      "Mulher PROPN nmod\n",
      "e CCONJ cc\n",
      "na ADP case\n",
      "Convenção PROPN conj\n",
      "sobre ADP case\n",
      "a DET det\n",
      "Eliminação PROPN nmod\n",
      "de ADP case\n",
      "Todas DET nmod\n",
      "as DET fixed\n",
      "Formas PROPN flat:name\n",
      "de ADP case\n",
      "Discriminação PROPN nmod\n",
      "contra ADP case\n",
      "a DET det\n",
      "Mulher PROPN nmod\n",
      ", PUNCT punct\n",
      "dos ADP case\n",
      "quais PRON obj\n",
      "o DET det\n",
      "Brasil PROPN nsubj\n",
      "é AUX cop\n",
      "signatário ADJ acl:relcl\n",
      ", PUNCT punct\n",
      "  SPACE dep\n",
      "prever VERB conj\n",
      "medidas NOUN obj\n",
      "que PRON nsubj\n",
      "reforçam VERB acl:relcl\n",
      "a DET det\n",
      "prevenção NOUN obj\n",
      "e CCONJ cc\n",
      "o DET det\n",
      "combate NOUN conj\n",
      "à ADP case\n",
      "violência NOUN nmod\n",
      "contra ADP case\n",
      "a DET det\n",
      "mulher NOUN nmod\n",
      ", PUNCT punct\n",
      "inclusive ADV advmod\n",
      "em ADP case\n",
      "seu DET det\n",
      "ambiente NOUN obl\n",
      "de ADP case\n",
      "trabalho NOUN nmod\n",
      ". PUNCT punct\n"
     ]
    }
   ],
   "source": [
    "print(doc.text)\n",
    "for token in doc:\n",
    "    print(token.text, token.pos_, token.dep_)"
   ]
  },
  {
   "cell_type": "markdown",
   "id": "bb4f171f-ab56-48eb-b5c7-0e84cf8ef913",
   "metadata": {},
   "source": [
    "# Drafting\n"
   ]
  },
  {
   "cell_type": "markdown",
   "id": "41b8bc6e-64e5-4e50-bde4-59aecc091515",
   "metadata": {},
   "source": [
    "## Spacy"
   ]
  },
  {
   "cell_type": "code",
   "execution_count": 229,
   "id": "aee23eeb-4082-41fc-a7c4-e214719ada8a",
   "metadata": {},
   "outputs": [
    {
     "name": "stdout",
     "output_type": "stream",
     "text": [
      "<class 'pandas.core.frame.DataFrame'>\n",
      "RangeIndex: 10 entries, 0 to 9\n",
      "Data columns (total 3 columns):\n",
      " #   Column         Non-Null Count  Dtype \n",
      "---  ------         --------------  ----- \n",
      " 0   id_proposicao  10 non-null     object\n",
      " 1   ementa         10 non-null     object\n",
      " 2   lemmas         10 non-null     object\n",
      "dtypes: object(3)\n",
      "memory usage: 368.0+ bytes\n"
     ]
    }
   ],
   "source": [
    "test = law_description.head(10)\n",
    "test.info()"
   ]
  },
  {
   "cell_type": "code",
   "execution_count": 230,
   "id": "e6641506-7c4d-4fdc-b853-77b9870ca7ab",
   "metadata": {},
   "outputs": [],
   "source": [
    "stopwords = set(nltk.corpus.stopwords.words('portuguese'))"
   ]
  },
  {
   "cell_type": "code",
   "execution_count": 231,
   "id": "df47beb3-9ab9-49c8-99d4-f0e8a9da2ca7",
   "metadata": {},
   "outputs": [],
   "source": [
    "def lemmatize_pipe(doc):\n",
    "    lemma_list = [str(tok.lemma_).lower() for tok in doc\n",
    "                 if tok.is_alpha and tok.text.lower() not in stopwords]\n",
    "    return lemma_list\n",
    "\n",
    "def proprocess_pipe(texts):\n",
    "    preproc_pipe = []\n",
    "    for doc in nlp.pipe(texts, batch_size=100): #batch size is one of the levels to optimize, larger for smaller docs\n",
    "        preproc_pipe.append(lemmatize_pipe(doc))\n",
    "    return preproc_pipe"
   ]
  },
  {
   "cell_type": "code",
   "execution_count": 232,
   "id": "393d34bd-f0b3-40d5-a080-2e44b9a313e8",
   "metadata": {},
   "outputs": [
    {
     "name": "stdout",
     "output_type": "stream",
     "text": [
      "CPU times: total: 0 ns\n",
      "Wall time: 26.4 ms\n"
     ]
    },
    {
     "data": {
      "text/html": [
       "<div>\n",
       "<style scoped>\n",
       "    .dataframe tbody tr th:only-of-type {\n",
       "        vertical-align: middle;\n",
       "    }\n",
       "\n",
       "    .dataframe tbody tr th {\n",
       "        vertical-align: top;\n",
       "    }\n",
       "\n",
       "    .dataframe thead th {\n",
       "        text-align: right;\n",
       "    }\n",
       "</style>\n",
       "<table border=\"1\" class=\"dataframe\">\n",
       "  <thead>\n",
       "    <tr style=\"text-align: right;\">\n",
       "      <th></th>\n",
       "      <th>id_proposicao</th>\n",
       "      <th>ementa</th>\n",
       "      <th>lemmas</th>\n",
       "    </tr>\n",
       "  </thead>\n",
       "  <tbody>\n",
       "    <tr>\n",
       "      <th>0</th>\n",
       "      <td>2416754</td>\n",
       "      <td>Altera a Lei nº 12.651, de 25 de maio de 2012 ...</td>\n",
       "      <td>[altera, lei, nº, maio, código, florestal, per...</td>\n",
       "    </tr>\n",
       "    <tr>\n",
       "      <th>1</th>\n",
       "      <td>2334965</td>\n",
       "      <td>Altera a Lei nº 10.826, de 22 de dezembro de d...</td>\n",
       "      <td>[altera, lei, nº, dezembro, dispor, sobre, reg...</td>\n",
       "    </tr>\n",
       "    <tr>\n",
       "      <th>2</th>\n",
       "      <td>2331413</td>\n",
       "      <td>Altera as Leis n.º 7.210, de 11 de julho de 19...</td>\n",
       "      <td>[altera, lei, julho, lei, execução, penal, dez...</td>\n",
       "    </tr>\n",
       "    <tr>\n",
       "      <th>3</th>\n",
       "      <td>2314561</td>\n",
       "      <td>Institui o sistema nacional de logística rever...</td>\n",
       "      <td>[institui, sistema, nacional, logística, rever...</td>\n",
       "    </tr>\n",
       "    <tr>\n",
       "      <th>4</th>\n",
       "      <td>2339645</td>\n",
       "      <td>Altera a Lei nº 12.527, de 18 de novembro de 2...</td>\n",
       "      <td>[altera, lei, nº, novembro, lei, acesso, infor...</td>\n",
       "    </tr>\n",
       "    <tr>\n",
       "      <th>5</th>\n",
       "      <td>2315902</td>\n",
       "      <td>Concede licenciamento compulsório das patentes...</td>\n",
       "      <td>[concede, licenciamento, compulsório, patente,...</td>\n",
       "    </tr>\n",
       "    <tr>\n",
       "      <th>6</th>\n",
       "      <td>2332770</td>\n",
       "      <td>Institui o Dia Nacional de Conscientização sob...</td>\n",
       "      <td>[institui, dia, nacional, conscientização, sob...</td>\n",
       "    </tr>\n",
       "    <tr>\n",
       "      <th>7</th>\n",
       "      <td>2335037</td>\n",
       "      <td>Dispõe sobre a Lei de Atenção à Gagueira e à P...</td>\n",
       "      <td>[dispôr, sobre, lei, atenção, gagueira, pessoa...</td>\n",
       "    </tr>\n",
       "    <tr>\n",
       "      <th>8</th>\n",
       "      <td>2335035</td>\n",
       "      <td>Institui o Programa Nacional de Cuidados Palia...</td>\n",
       "      <td>[institui, programa, nacional, cuidados, palia...</td>\n",
       "    </tr>\n",
       "    <tr>\n",
       "      <th>9</th>\n",
       "      <td>2417130</td>\n",
       "      <td>Regulamenta as atividades dos profissionais de...</td>\n",
       "      <td>[regulamenta, atividade, profissional, nível, ...</td>\n",
       "    </tr>\n",
       "  </tbody>\n",
       "</table>\n",
       "</div>"
      ],
      "text/plain": [
       "  id_proposicao                                             ementa  \\\n",
       "0       2416754  Altera a Lei nº 12.651, de 25 de maio de 2012 ...   \n",
       "1       2334965  Altera a Lei nº 10.826, de 22 de dezembro de d...   \n",
       "2       2331413  Altera as Leis n.º 7.210, de 11 de julho de 19...   \n",
       "3       2314561  Institui o sistema nacional de logística rever...   \n",
       "4       2339645  Altera a Lei nº 12.527, de 18 de novembro de 2...   \n",
       "5       2315902  Concede licenciamento compulsório das patentes...   \n",
       "6       2332770  Institui o Dia Nacional de Conscientização sob...   \n",
       "7       2335037  Dispõe sobre a Lei de Atenção à Gagueira e à P...   \n",
       "8       2335035  Institui o Programa Nacional de Cuidados Palia...   \n",
       "9       2417130  Regulamenta as atividades dos profissionais de...   \n",
       "\n",
       "                                              lemmas  \n",
       "0  [altera, lei, nº, maio, código, florestal, per...  \n",
       "1  [altera, lei, nº, dezembro, dispor, sobre, reg...  \n",
       "2  [altera, lei, julho, lei, execução, penal, dez...  \n",
       "3  [institui, sistema, nacional, logística, rever...  \n",
       "4  [altera, lei, nº, novembro, lei, acesso, infor...  \n",
       "5  [concede, licenciamento, compulsório, patente,...  \n",
       "6  [institui, dia, nacional, conscientização, sob...  \n",
       "7  [dispôr, sobre, lei, atenção, gagueira, pessoa...  \n",
       "8  [institui, programa, nacional, cuidados, palia...  \n",
       "9  [regulamenta, atividade, profissional, nível, ...  "
      ]
     },
     "execution_count": 232,
     "metadata": {},
     "output_type": "execute_result"
    }
   ],
   "source": [
    "%%time\n",
    "test['lemmas'] = proprocess_pipe(test['ementa'])\n",
    "test[['id_proposicao', 'ementa', 'lemmas']]"
   ]
  },
  {
   "cell_type": "markdown",
   "id": "2749c9fd-3973-44c4-a608-f86dfc0bd024",
   "metadata": {},
   "source": [
    "- Maybe would be important to have different entities identified, such as \"CLT\""
   ]
  },
  {
   "cell_type": "markdown",
   "id": "be930089-91d7-4bcd-b42e-85b6a6412d9d",
   "metadata": {},
   "source": [
    "## Count vectorizer"
   ]
  },
  {
   "cell_type": "code",
   "execution_count": 248,
   "id": "d1455aab-67d2-4f27-91e0-c5af371fefa9",
   "metadata": {},
   "outputs": [
    {
     "data": {
      "text/plain": [
       "0       Alteração, Código Florestal (2012), diretrizes...\n",
       "1       Alteração, Estatuto do Desarmamento, expedição...\n",
       "2       Política pública, prevenção, violência contra ...\n",
       "3       Criação, Sistema de Logística Reversa de Resíd...\n",
       "4       Alteração, Lei de Acesso à Informação, obrigat...\n",
       "                              ...                        \n",
       "8899                                                 None\n",
       "8900                                                 None\n",
       "8901                                                 None\n",
       "8902                                                 None\n",
       "8903                                                 None\n",
       "Name: palavra_chave, Length: 8904, dtype: object"
      ]
     },
     "execution_count": 248,
     "metadata": {},
     "output_type": "execute_result"
    }
   ],
   "source": [
    "law_keywords = projects['palavra_chave']\n",
    "law_keywords"
   ]
  },
  {
   "cell_type": "code",
   "execution_count": 249,
   "id": "38331cf5-7a10-40a2-908c-f87ab7c67763",
   "metadata": {},
   "outputs": [],
   "source": [
    "corpus = law_keywords.head(10)"
   ]
  },
  {
   "cell_type": "code",
   "execution_count": 253,
   "id": "1cf72053-4d25-4c0e-94e5-8aada0698204",
   "metadata": {},
   "outputs": [
    {
     "data": {
      "text/plain": [
       "'Alteração, Estatuto do Desarmamento, expedição, Certificado de Registro de Arma de Fogo, autoridade competente, Sistema Nacional de Armas (Sinarm), Sistema de Gerenciamento Militar de Armas (SIGMA), documento, direito de propriedade, arma de fogo. _Requisito, aquisição, arma de fogo, comprovação, idoneidade, substituição, certidão de objeto e pé, quantidade. _ Certificado de Registro de Arma de Fogo, autorização, proprietário, transporte, arma de fogo, ausência, munição. _ Porte de arma, validade, território nacional, caráter pessoal, intransferibilidade. _Autorização, utilização, arma, acervo museológico, tiro esportivo, caça, coleção, defesa pessoa, Legítima defesa. _Competência, Ministério da Justiça e Segurança Pública, autorização, porte de arma, responsável legal, segurança, estrangeiro. _Classificação, arma, uso permitido. _Taxa, emissão, porte de arma. _Aquisição, arma, Comando militar de área.'"
      ]
     },
     "execution_count": 253,
     "metadata": {},
     "output_type": "execute_result"
    }
   ],
   "source": [
    "corpus[1]"
   ]
  },
  {
   "cell_type": "code",
   "execution_count": 254,
   "id": "5d57d158-5987-42e5-94d0-5df5c6a2a8fc",
   "metadata": {},
   "outputs": [
    {
     "name": "stdout",
     "output_type": "stream",
     "text": [
      "Bag of Words Matrix: \n",
      " [[1 0 0 ... 0 0 0]\n",
      " [0 0 0 ... 0 0 0]\n",
      " [0 1 3 ... 0 0 1]\n",
      " ...\n",
      " [0 0 0 ... 0 0 0]\n",
      " [0 0 0 ... 0 0 0]\n",
      " [0 0 0 ... 0 0 0]]\n"
     ]
    }
   ],
   "source": [
    "from sklearn.feature_extraction.text import CountVectorizer\n",
    "\n",
    "vectorizer = CountVectorizer()\n",
    "\n",
    "X = vectorizer.fit_transform(corpus)\n",
    "\n",
    "feature_names = vectorizer.get_feature_names_out()\n",
    "\n",
    "X_array = X.toarray()\n",
    "\n",
    "X_array\n",
    "\n",
    "print(\"Bag of Words Matrix: \\n\", X_array)"
   ]
  },
  {
   "cell_type": "code",
   "execution_count": 256,
   "id": "7bab47dc-caab-4e62-84fb-878106c9b685",
   "metadata": {},
   "outputs": [
    {
     "data": {
      "text/html": [
       "<div>\n",
       "<style scoped>\n",
       "    .dataframe tbody tr th:only-of-type {\n",
       "        vertical-align: middle;\n",
       "    }\n",
       "\n",
       "    .dataframe tbody tr th {\n",
       "        vertical-align: top;\n",
       "    }\n",
       "\n",
       "    .dataframe thead th {\n",
       "        text-align: right;\n",
       "    }\n",
       "</style>\n",
       "<table border=\"1\" class=\"dataframe\">\n",
       "  <thead>\n",
       "    <tr style=\"text-align: right;\">\n",
       "      <th></th>\n",
       "      <th>2012</th>\n",
       "      <th>2019</th>\n",
       "      <th>_alteração</th>\n",
       "      <th>_aquisição</th>\n",
       "      <th>_autorização</th>\n",
       "      <th>_classificação</th>\n",
       "      <th>_competência</th>\n",
       "      <th>_direitos</th>\n",
       "      <th>_diretrizes</th>\n",
       "      <th>_filmagem</th>\n",
       "      <th>...</th>\n",
       "      <th>valor</th>\n",
       "      <th>vida</th>\n",
       "      <th>violência</th>\n",
       "      <th>vítima</th>\n",
       "      <th>água</th>\n",
       "      <th>área</th>\n",
       "      <th>âmbito</th>\n",
       "      <th>óptica</th>\n",
       "      <th>órgão</th>\n",
       "      <th>único</th>\n",
       "    </tr>\n",
       "    <tr>\n",
       "      <th>palavra_chave</th>\n",
       "      <th></th>\n",
       "      <th></th>\n",
       "      <th></th>\n",
       "      <th></th>\n",
       "      <th></th>\n",
       "      <th></th>\n",
       "      <th></th>\n",
       "      <th></th>\n",
       "      <th></th>\n",
       "      <th></th>\n",
       "      <th></th>\n",
       "      <th></th>\n",
       "      <th></th>\n",
       "      <th></th>\n",
       "      <th></th>\n",
       "      <th></th>\n",
       "      <th></th>\n",
       "      <th></th>\n",
       "      <th></th>\n",
       "      <th></th>\n",
       "      <th></th>\n",
       "    </tr>\n",
       "  </thead>\n",
       "  <tbody>\n",
       "    <tr>\n",
       "      <th>Alteração, Código Florestal (2012), diretrizes, autorização, construção, Reservatório d'água, Área de Preservação Permanente (APP), Imóvel rural.</th>\n",
       "      <td>1</td>\n",
       "      <td>0</td>\n",
       "      <td>0</td>\n",
       "      <td>0</td>\n",
       "      <td>0</td>\n",
       "      <td>0</td>\n",
       "      <td>0</td>\n",
       "      <td>0</td>\n",
       "      <td>0</td>\n",
       "      <td>0</td>\n",
       "      <td>...</td>\n",
       "      <td>0</td>\n",
       "      <td>0</td>\n",
       "      <td>0</td>\n",
       "      <td>0</td>\n",
       "      <td>1</td>\n",
       "      <td>1</td>\n",
       "      <td>0</td>\n",
       "      <td>0</td>\n",
       "      <td>0</td>\n",
       "      <td>0</td>\n",
       "    </tr>\n",
       "    <tr>\n",
       "      <th>Alteração, Estatuto do Desarmamento, expedição, Certificado de Registro de Arma de Fogo, autoridade competente, Sistema Nacional de Armas (Sinarm), Sistema de Gerenciamento Militar de Armas (SIGMA), documento, direito de propriedade, arma de fogo. _Requisito, aquisição, arma de fogo, comprovação, idoneidade, substituição, certidão de objeto e pé, quantidade. _ Certificado de Registro de Arma de Fogo, autorização, proprietário, transporte, arma de fogo, ausência, munição. _ Porte de arma, validade, território nacional, caráter pessoal, intransferibilidade. _Autorização, utilização, arma, acervo museológico, tiro esportivo, caça, coleção, defesa pessoa, Legítima defesa. _Competência, Ministério da Justiça e Segurança Pública, autorização, porte de arma, responsável legal, segurança, estrangeiro. _Classificação, arma, uso permitido. _Taxa, emissão, porte de arma. _Aquisição, arma, Comando militar de área.</th>\n",
       "      <td>0</td>\n",
       "      <td>0</td>\n",
       "      <td>0</td>\n",
       "      <td>1</td>\n",
       "      <td>1</td>\n",
       "      <td>1</td>\n",
       "      <td>1</td>\n",
       "      <td>0</td>\n",
       "      <td>0</td>\n",
       "      <td>0</td>\n",
       "      <td>...</td>\n",
       "      <td>0</td>\n",
       "      <td>0</td>\n",
       "      <td>0</td>\n",
       "      <td>0</td>\n",
       "      <td>0</td>\n",
       "      <td>1</td>\n",
       "      <td>0</td>\n",
       "      <td>0</td>\n",
       "      <td>0</td>\n",
       "      <td>0</td>\n",
       "    </tr>\n",
       "    <tr>\n",
       "      <th>Política pública, prevenção, violência contra a mulher. _Diretrizes, inclusão, conteúdo educativo, educação infantil, educação básica, ensino fundamental, ensino médio, direitos, mulher. _Poder público, campanha educativa, serviços públicos, orientação, mulher. _Alteração, Lei de Abuso de Autoridade (2019), tipicidade penal, crime, ausência, cumprimento, diretrizes, atendimento, mulher, vítima, violência. _Filmagem, fotografia, agressor, violência contra a mulher, flagrante delito. _Alteração, Lei de Execução Penal, critério, progressão de regime prisional, monitoração eletrônica, preso condenado, crime contra a mulher. _Alteração, Regime Jurídico Único dos Servidores Públicos Civis da União, critério, afastamento preventivo de servidor, crime contra a mulher, ambiente de trabalho.</th>\n",
       "      <td>0</td>\n",
       "      <td>1</td>\n",
       "      <td>3</td>\n",
       "      <td>0</td>\n",
       "      <td>0</td>\n",
       "      <td>0</td>\n",
       "      <td>0</td>\n",
       "      <td>0</td>\n",
       "      <td>1</td>\n",
       "      <td>1</td>\n",
       "      <td>...</td>\n",
       "      <td>0</td>\n",
       "      <td>0</td>\n",
       "      <td>3</td>\n",
       "      <td>1</td>\n",
       "      <td>0</td>\n",
       "      <td>0</td>\n",
       "      <td>0</td>\n",
       "      <td>0</td>\n",
       "      <td>0</td>\n",
       "      <td>1</td>\n",
       "    </tr>\n",
       "    <tr>\n",
       "      <th>Criação, Sistema de Logística Reversa de Resíduos Têxteis, logística reversa, resíduo têxtil, embalagem do produto, posterioridade, descarte, participação, fabricante, empresa importadora, distribuidor, comerciante, consumidor, definição, objeto da lei, finalidade, conservação, preservação, meio ambiente, estruturação, implementação, Sistema de logística reversa, obrigações, responsabilidade, penalidade, disposição final. _Alteração, Lei de resíduos sólidos, obrigatoriedade, estruturação, implementação, Sistema de logística reversa, resíduo têxtil, embalagem do produto.</th>\n",
       "      <td>0</td>\n",
       "      <td>0</td>\n",
       "      <td>1</td>\n",
       "      <td>0</td>\n",
       "      <td>0</td>\n",
       "      <td>0</td>\n",
       "      <td>0</td>\n",
       "      <td>0</td>\n",
       "      <td>0</td>\n",
       "      <td>0</td>\n",
       "      <td>...</td>\n",
       "      <td>0</td>\n",
       "      <td>0</td>\n",
       "      <td>0</td>\n",
       "      <td>0</td>\n",
       "      <td>0</td>\n",
       "      <td>0</td>\n",
       "      <td>0</td>\n",
       "      <td>0</td>\n",
       "      <td>0</td>\n",
       "      <td>0</td>\n",
       "    </tr>\n",
       "    <tr>\n",
       "      <th>Alteração, Lei de Acesso à Informação, obrigatoriedade, divulgação, órgão público, Entidade pública, valor, hospitalidade, oferecimento, agente privado, participação, agente público, seminário, congresso, evento.</th>\n",
       "      <td>0</td>\n",
       "      <td>0</td>\n",
       "      <td>0</td>\n",
       "      <td>0</td>\n",
       "      <td>0</td>\n",
       "      <td>0</td>\n",
       "      <td>0</td>\n",
       "      <td>0</td>\n",
       "      <td>0</td>\n",
       "      <td>0</td>\n",
       "      <td>...</td>\n",
       "      <td>1</td>\n",
       "      <td>0</td>\n",
       "      <td>0</td>\n",
       "      <td>0</td>\n",
       "      <td>0</td>\n",
       "      <td>0</td>\n",
       "      <td>0</td>\n",
       "      <td>0</td>\n",
       "      <td>1</td>\n",
       "      <td>0</td>\n",
       "    </tr>\n",
       "    <tr>\n",
       "      <th>Critério, Licença compulsória, Patente de produto, medicamento, combate, Emergência de Saúde Pública de Importância Internacional (ESPII), pandemia, coronavírus.</th>\n",
       "      <td>0</td>\n",
       "      <td>0</td>\n",
       "      <td>0</td>\n",
       "      <td>0</td>\n",
       "      <td>0</td>\n",
       "      <td>0</td>\n",
       "      <td>0</td>\n",
       "      <td>0</td>\n",
       "      <td>0</td>\n",
       "      <td>0</td>\n",
       "      <td>...</td>\n",
       "      <td>0</td>\n",
       "      <td>0</td>\n",
       "      <td>0</td>\n",
       "      <td>0</td>\n",
       "      <td>0</td>\n",
       "      <td>0</td>\n",
       "      <td>0</td>\n",
       "      <td>0</td>\n",
       "      <td>0</td>\n",
       "      <td>0</td>\n",
       "    </tr>\n",
       "    <tr>\n",
       "      <th>Criação, Dia Nacional de Conscientização sobre a Neuropatia Óptica Hereditária de Leber (LHON), data comemorativa, fevereiro.</th>\n",
       "      <td>0</td>\n",
       "      <td>0</td>\n",
       "      <td>0</td>\n",
       "      <td>0</td>\n",
       "      <td>0</td>\n",
       "      <td>0</td>\n",
       "      <td>0</td>\n",
       "      <td>0</td>\n",
       "      <td>0</td>\n",
       "      <td>0</td>\n",
       "      <td>...</td>\n",
       "      <td>0</td>\n",
       "      <td>0</td>\n",
       "      <td>0</td>\n",
       "      <td>0</td>\n",
       "      <td>0</td>\n",
       "      <td>0</td>\n",
       "      <td>0</td>\n",
       "      <td>1</td>\n",
       "      <td>0</td>\n",
       "      <td>0</td>\n",
       "    </tr>\n",
       "    <tr>\n",
       "      <th>Criação, Lei de Atenção à Gagueira e à Pessoa que Gagueja, diagnóstico precoce, Tratamento multidisciplinar, combate, discriminação, pessoa, gagueira, diretrizes.</th>\n",
       "      <td>0</td>\n",
       "      <td>0</td>\n",
       "      <td>0</td>\n",
       "      <td>0</td>\n",
       "      <td>0</td>\n",
       "      <td>0</td>\n",
       "      <td>0</td>\n",
       "      <td>0</td>\n",
       "      <td>0</td>\n",
       "      <td>0</td>\n",
       "      <td>...</td>\n",
       "      <td>0</td>\n",
       "      <td>0</td>\n",
       "      <td>0</td>\n",
       "      <td>0</td>\n",
       "      <td>0</td>\n",
       "      <td>0</td>\n",
       "      <td>0</td>\n",
       "      <td>0</td>\n",
       "      <td>0</td>\n",
       "      <td>0</td>\n",
       "    </tr>\n",
       "    <tr>\n",
       "      <th>Criação, Programa Nacional de Cuidados Paliativos, garantia, acesso, cuidado paliativo, serviços de saúde, âmbito nacional, prevenção, atenuação, sofrimento físico, sofrimento psicológico, melhoria, qualidade de vida, assistência, paciente, família. _Direitos, deveres, paciente, família, Programa Nacional de Cuidados Paliativos.</th>\n",
       "      <td>0</td>\n",
       "      <td>0</td>\n",
       "      <td>0</td>\n",
       "      <td>0</td>\n",
       "      <td>0</td>\n",
       "      <td>0</td>\n",
       "      <td>0</td>\n",
       "      <td>1</td>\n",
       "      <td>0</td>\n",
       "      <td>0</td>\n",
       "      <td>...</td>\n",
       "      <td>0</td>\n",
       "      <td>1</td>\n",
       "      <td>0</td>\n",
       "      <td>0</td>\n",
       "      <td>0</td>\n",
       "      <td>0</td>\n",
       "      <td>1</td>\n",
       "      <td>0</td>\n",
       "      <td>0</td>\n",
       "      <td>0</td>\n",
       "    </tr>\n",
       "    <tr>\n",
       "      <th>Regulamentação, atividade profissional, Técnico em farmácia, Auxiliar de farmácia, diretrizes.</th>\n",
       "      <td>0</td>\n",
       "      <td>0</td>\n",
       "      <td>0</td>\n",
       "      <td>0</td>\n",
       "      <td>0</td>\n",
       "      <td>0</td>\n",
       "      <td>0</td>\n",
       "      <td>0</td>\n",
       "      <td>0</td>\n",
       "      <td>0</td>\n",
       "      <td>...</td>\n",
       "      <td>0</td>\n",
       "      <td>0</td>\n",
       "      <td>0</td>\n",
       "      <td>0</td>\n",
       "      <td>0</td>\n",
       "      <td>0</td>\n",
       "      <td>0</td>\n",
       "      <td>0</td>\n",
       "      <td>0</td>\n",
       "      <td>0</td>\n",
       "    </tr>\n",
       "  </tbody>\n",
       "</table>\n",
       "<p>10 rows × 242 columns</p>\n",
       "</div>"
      ],
      "text/plain": [
       "                                                    2012  2019  _alteração  \\\n",
       "palavra_chave                                                                \n",
       "Alteração, Código Florestal (2012), diretrizes,...     1     0           0   \n",
       "Alteração, Estatuto do Desarmamento, expedição,...     0     0           0   \n",
       "Política pública, prevenção, violência contra a...     0     1           3   \n",
       "Criação, Sistema de Logística Reversa de Resídu...     0     0           1   \n",
       "Alteração, Lei de Acesso à Informação, obrigato...     0     0           0   \n",
       "Critério, Licença compulsória, Patente de produ...     0     0           0   \n",
       "Criação, Dia Nacional de Conscientização sobre ...     0     0           0   \n",
       "Criação, Lei de Atenção à Gagueira e à Pessoa q...     0     0           0   \n",
       "Criação, Programa Nacional de Cuidados Paliativ...     0     0           0   \n",
       "Regulamentação, atividade profissional, Técnico...     0     0           0   \n",
       "\n",
       "                                                    _aquisição  _autorização  \\\n",
       "palavra_chave                                                                  \n",
       "Alteração, Código Florestal (2012), diretrizes,...           0             0   \n",
       "Alteração, Estatuto do Desarmamento, expedição,...           1             1   \n",
       "Política pública, prevenção, violência contra a...           0             0   \n",
       "Criação, Sistema de Logística Reversa de Resídu...           0             0   \n",
       "Alteração, Lei de Acesso à Informação, obrigato...           0             0   \n",
       "Critério, Licença compulsória, Patente de produ...           0             0   \n",
       "Criação, Dia Nacional de Conscientização sobre ...           0             0   \n",
       "Criação, Lei de Atenção à Gagueira e à Pessoa q...           0             0   \n",
       "Criação, Programa Nacional de Cuidados Paliativ...           0             0   \n",
       "Regulamentação, atividade profissional, Técnico...           0             0   \n",
       "\n",
       "                                                    _classificação  \\\n",
       "palavra_chave                                                        \n",
       "Alteração, Código Florestal (2012), diretrizes,...               0   \n",
       "Alteração, Estatuto do Desarmamento, expedição,...               1   \n",
       "Política pública, prevenção, violência contra a...               0   \n",
       "Criação, Sistema de Logística Reversa de Resídu...               0   \n",
       "Alteração, Lei de Acesso à Informação, obrigato...               0   \n",
       "Critério, Licença compulsória, Patente de produ...               0   \n",
       "Criação, Dia Nacional de Conscientização sobre ...               0   \n",
       "Criação, Lei de Atenção à Gagueira e à Pessoa q...               0   \n",
       "Criação, Programa Nacional de Cuidados Paliativ...               0   \n",
       "Regulamentação, atividade profissional, Técnico...               0   \n",
       "\n",
       "                                                    _competência  _direitos  \\\n",
       "palavra_chave                                                                 \n",
       "Alteração, Código Florestal (2012), diretrizes,...             0          0   \n",
       "Alteração, Estatuto do Desarmamento, expedição,...             1          0   \n",
       "Política pública, prevenção, violência contra a...             0          0   \n",
       "Criação, Sistema de Logística Reversa de Resídu...             0          0   \n",
       "Alteração, Lei de Acesso à Informação, obrigato...             0          0   \n",
       "Critério, Licença compulsória, Patente de produ...             0          0   \n",
       "Criação, Dia Nacional de Conscientização sobre ...             0          0   \n",
       "Criação, Lei de Atenção à Gagueira e à Pessoa q...             0          0   \n",
       "Criação, Programa Nacional de Cuidados Paliativ...             0          1   \n",
       "Regulamentação, atividade profissional, Técnico...             0          0   \n",
       "\n",
       "                                                    _diretrizes  _filmagem  \\\n",
       "palavra_chave                                                                \n",
       "Alteração, Código Florestal (2012), diretrizes,...            0          0   \n",
       "Alteração, Estatuto do Desarmamento, expedição,...            0          0   \n",
       "Política pública, prevenção, violência contra a...            1          1   \n",
       "Criação, Sistema de Logística Reversa de Resídu...            0          0   \n",
       "Alteração, Lei de Acesso à Informação, obrigato...            0          0   \n",
       "Critério, Licença compulsória, Patente de produ...            0          0   \n",
       "Criação, Dia Nacional de Conscientização sobre ...            0          0   \n",
       "Criação, Lei de Atenção à Gagueira e à Pessoa q...            0          0   \n",
       "Criação, Programa Nacional de Cuidados Paliativ...            0          0   \n",
       "Regulamentação, atividade profissional, Técnico...            0          0   \n",
       "\n",
       "                                                    ...  valor  vida  \\\n",
       "palavra_chave                                       ...                \n",
       "Alteração, Código Florestal (2012), diretrizes,...  ...      0     0   \n",
       "Alteração, Estatuto do Desarmamento, expedição,...  ...      0     0   \n",
       "Política pública, prevenção, violência contra a...  ...      0     0   \n",
       "Criação, Sistema de Logística Reversa de Resídu...  ...      0     0   \n",
       "Alteração, Lei de Acesso à Informação, obrigato...  ...      1     0   \n",
       "Critério, Licença compulsória, Patente de produ...  ...      0     0   \n",
       "Criação, Dia Nacional de Conscientização sobre ...  ...      0     0   \n",
       "Criação, Lei de Atenção à Gagueira e à Pessoa q...  ...      0     0   \n",
       "Criação, Programa Nacional de Cuidados Paliativ...  ...      0     1   \n",
       "Regulamentação, atividade profissional, Técnico...  ...      0     0   \n",
       "\n",
       "                                                    violência  vítima  água  \\\n",
       "palavra_chave                                                                 \n",
       "Alteração, Código Florestal (2012), diretrizes,...          0       0     1   \n",
       "Alteração, Estatuto do Desarmamento, expedição,...          0       0     0   \n",
       "Política pública, prevenção, violência contra a...          3       1     0   \n",
       "Criação, Sistema de Logística Reversa de Resídu...          0       0     0   \n",
       "Alteração, Lei de Acesso à Informação, obrigato...          0       0     0   \n",
       "Critério, Licença compulsória, Patente de produ...          0       0     0   \n",
       "Criação, Dia Nacional de Conscientização sobre ...          0       0     0   \n",
       "Criação, Lei de Atenção à Gagueira e à Pessoa q...          0       0     0   \n",
       "Criação, Programa Nacional de Cuidados Paliativ...          0       0     0   \n",
       "Regulamentação, atividade profissional, Técnico...          0       0     0   \n",
       "\n",
       "                                                    área  âmbito  óptica  \\\n",
       "palavra_chave                                                              \n",
       "Alteração, Código Florestal (2012), diretrizes,...     1       0       0   \n",
       "Alteração, Estatuto do Desarmamento, expedição,...     1       0       0   \n",
       "Política pública, prevenção, violência contra a...     0       0       0   \n",
       "Criação, Sistema de Logística Reversa de Resídu...     0       0       0   \n",
       "Alteração, Lei de Acesso à Informação, obrigato...     0       0       0   \n",
       "Critério, Licença compulsória, Patente de produ...     0       0       0   \n",
       "Criação, Dia Nacional de Conscientização sobre ...     0       0       1   \n",
       "Criação, Lei de Atenção à Gagueira e à Pessoa q...     0       0       0   \n",
       "Criação, Programa Nacional de Cuidados Paliativ...     0       1       0   \n",
       "Regulamentação, atividade profissional, Técnico...     0       0       0   \n",
       "\n",
       "                                                    órgão  único  \n",
       "palavra_chave                                                     \n",
       "Alteração, Código Florestal (2012), diretrizes,...      0      0  \n",
       "Alteração, Estatuto do Desarmamento, expedição,...      0      0  \n",
       "Política pública, prevenção, violência contra a...      0      1  \n",
       "Criação, Sistema de Logística Reversa de Resídu...      0      0  \n",
       "Alteração, Lei de Acesso à Informação, obrigato...      1      0  \n",
       "Critério, Licença compulsória, Patente de produ...      0      0  \n",
       "Criação, Dia Nacional de Conscientização sobre ...      0      0  \n",
       "Criação, Lei de Atenção à Gagueira e à Pessoa q...      0      0  \n",
       "Criação, Programa Nacional de Cuidados Paliativ...      0      0  \n",
       "Regulamentação, atividade profissional, Técnico...      0      0  \n",
       "\n",
       "[10 rows x 242 columns]"
      ]
     },
     "execution_count": 256,
     "metadata": {},
     "output_type": "execute_result"
    }
   ],
   "source": [
    "import pandas as pd\n",
    "\n",
    "df = pd.DataFrame(data=X_array, columns=feature_names, index=corpus)\n",
    "\n",
    "df"
   ]
  }
 ],
 "metadata": {
  "kernelspec": {
   "display_name": "Python 3 (ipykernel)",
   "language": "python",
   "name": "python3"
  },
  "language_info": {
   "codemirror_mode": {
    "name": "ipython",
    "version": 3
   },
   "file_extension": ".py",
   "mimetype": "text/x-python",
   "name": "python",
   "nbconvert_exporter": "python",
   "pygments_lexer": "ipython3",
   "version": "3.10.5"
  }
 },
 "nbformat": 4,
 "nbformat_minor": 5
}
