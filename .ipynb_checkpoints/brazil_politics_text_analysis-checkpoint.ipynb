{
 "cells": [
  {
   "cell_type": "code",
   "execution_count": 1,
   "id": "46314032-50ed-4dfa-a745-b3ac2ed02c7e",
   "metadata": {},
   "outputs": [],
   "source": [
    "import basedosdados as bd\n",
    "import pandas as pd"
   ]
  },
  {
   "cell_type": "markdown",
   "id": "44bbd424-bbab-49bf-bba6-4763200be5bc",
   "metadata": {},
   "source": [
    "## Seleção do período:\n",
    "- desde 2022-01-01, início do atual mandato da câmara de deputados\n",
    "- até 2024-04-01, limite do dataset com acesso gratuito "
   ]
  },
  {
   "cell_type": "markdown",
   "id": "d13147f8-2933-4f47-9dd5-c1b0e4310d11",
   "metadata": {},
   "source": [
    "# Observações\n",
    "\n",
    "### Passo 1: Análise de texto de leis propostas\n",
    "\n",
    "Cada linha da base de dados corresponde a uma proposição, que pode ser de variados tipos.\n",
    "Os que parecem ser mais relevantes são \"Projeto de Lei\" ou \"Redação Final\"\n",
    "A escolha depende de (1) quanto detalhe se quer ter sobre o texto da lei e (2) o quão próximo o texto é da lei que foi votada e talvez aprovada.\n",
    "- (1) Se apenas a emenda (descrição da proposição) for suficiente, dá pra usar no bag of words a coluna \"ementa\" das proposições tipo \"Projeto de Lei\". Se quiser mais detalhe, é melhor usar o texto completo da lei, coluna \"teor_completo\", das proposições tipo \"Redação Final\".\n",
    "- (2) Se quiser o projeto de lei da forma que foi proposto pelo parlamentar, é melhor usar o tipo \"Projeto de Lei\", se quiser a lei como ela foi talvez aprovada ou votada, é melhor usar \"Redação Final\"\n",
    "\n",
    "Caso a escolha seja usar o texto completo (\"teor_completo\") da \"Redação Final\", é preciso encontrar um library que faça a leitura do PDF, e resolver o erro que tive. Também vai ter uma lmiitação de performance por armazenar o texto da web na memória.\n",
    "\n",
    "### Passo 2: Correlação com temas das leis propostas e sua aprovação\n",
    "\n",
    "Essa base de dados tem outras tabelas relacionadas à votação, também com o ID da proposição. Mas precisa investigar mais pra entender qual proposição representa a votação do PL antes de passar à sanção do presidente da república (último passo).\n",
    "\n"
   ]
  },
  {
   "cell_type": "markdown",
   "id": "3897f112-e3a7-4816-ac37-626efff64bdc",
   "metadata": {},
   "source": [
    "## Seleção do tipo de proposição: 'Projeto de Lei' ou 'Redação Final' "
   ]
  },
  {
   "cell_type": "code",
   "execution_count": 2,
   "id": "b0652045-9ce9-4f47-a6e5-1f4ee47cb7e7",
   "metadata": {
    "scrolled": true
   },
   "outputs": [
    {
     "name": "stderr",
     "output_type": "stream",
     "text": [
      "Downloading: 100%|████████████████████████████████████████████████████████████████| 235/235 [00:00<00:00, 732.26rows/s]"
     ]
    },
    {
     "name": "stdout",
     "output_type": "stream",
     "text": [
      "**LISTA DOS DIVERSOS TIPOS DE PROPOSIÇÃO**\n",
      "Mensagem\n",
      "Substitutivo\n",
      "Projeto de Lei\n",
      "Representação\n",
      "Processo Interno\n",
      "Emenda de Relator\n",
      "Ofício do Senado Federal\n",
      "Relatório do Relator (CMO)\n",
      "Subemenda Adotada pela Comissão\n",
      "Requerimento de Inversão de Pauta\n",
      "Destaque para Votação em Separado\n",
      "Proposta de Emenda à Constituição\n",
      "Requerimento de Instituição de CPI\n",
      "Requerimento de Adiamento da Discussão\n",
      "Emenda de Plenário a Projeto com Urgência\n",
      "Requerimento de Urgência (Art. 155 do RICD)\n",
      "Requerimento de Encerramento de Discussão em Comissão\n",
      "Requerimento de Audiência solicitada por Comissão ou Deputado\n",
      "Requerimento para envio de Requerimento de Informação pela Comissão\n",
      "Aviso (CN) de Relatório de Gestão Fiscal do Tribunal de Contas da União\n",
      "Documento\n",
      "Emenda à PEC\n",
      "Relatório Final\n",
      "Relatório Preliminar\n",
      "Objeto de Deliberação\n",
      "Perempção de Rádio/TV\n",
      "Requerimento de Preferência\n",
      "Instalação de Grupo Parlamentar\n",
      "Sugestão de Emenda ao PPA - Comissões\n",
      "Projeto de Lei (CN) de Alteração da LOA\n",
      "Requerimento de Convocação em CPI (art. 58, §3º, CF)\n",
      "Requerimento de Prorrogação de prazo de Comissão Temporária\n",
      "Requerimento de Convocação de reunião extraordinária de comissão\n",
      "Relatório de Atividades do Comitê de Admissibilidade de Emendas (CAE)\n",
      "Requerimento de Quebra de Interstício para Inclusão de Matéria na Ordem do Dia\n",
      "Requerimento de Requisição de Informação e Documentação em CPI (art. 58, §3º, CF)\n",
      "Aviso (CN) de Contas do TCU\n",
      "Recurso\n",
      "Destaque de Emenda\n",
      "Emenda na Comissão\n",
      "Ofício do Congresso Nacional\n",
      "Parecer Proferido em Plenário\n",
      "Projeto de Decreto Legislativo\n",
      "Requerimento de Prejudicialidade\n",
      "Requerimento de Audiência Pública\n",
      "Solicitação de Informação ao TCU\n",
      "Mensagem de Solicitação de urgência\n",
      "Parecer de Comissão para Redação Final\n",
      "Requerimento de Criação de Frente Parlamentar\n",
      "Indicação ou Desligamento de Membros de Comissão\n",
      "Requerimento de Inclusão de Matéria na Ordem do Dia\n",
      "Requerimento para envio de Indicação pela Comissão\n",
      "Recurso contra devolução de proposição (Art. 137, § 2º, RICD)\n",
      "Requerimento de Convocação de Ministro de Estado na Comissão (art. 50, CF)\n",
      "Projeto de Decreto Legislativo de Concessão, Renovação e Permissão de Radio/TV\n",
      "Requerimento para realização ou participação em Seminário, Visita Técnica ou outro Evento\n",
      "Parecer Preliminar\n",
      "Emenda de Redação em Plenário\n",
      "Proposta de Plano para Comissão\n",
      "Parecer às Emendas Apresentadas ao Substitutivo do Relator\n",
      "Recurso contra apensação/desapensação de proposição (Art. 142, I, RICD)\n",
      "Recurso contra declaração de prejudicialidade. (Art. 164, § 2º, RICD)\n",
      "Emenda de Redação\n",
      "Requerimento de Apensação\n",
      "Requerimento de Voto de regozijo ou louvor\n",
      "Aviso (CN) de Relatório de Atividades do TCU\n",
      "Projeto de Decreto Legislativo de Acordos, tratados ou atos internacionais\n",
      "Recurso contra apreciação conclusiva de comissão (Art. 58, § 1º c/c art. 132, § 2º, RICD)\n",
      "Errata\n",
      "Relatório de CPI\n",
      "Relatório do COI\n",
      "Emenda Aglutinativa de Plenário\n",
      "Constituição de Bloco Parlamentar\n",
      "Projeto de Lei (CN) de Plano Plurianual\n",
      "Sugestão de Emenda à LDO - Comissões\n",
      "Requerimento de Convocação de Autoridade\n",
      "Projeto de Lei (CN) de Crédito Suplementar\n",
      "Requerimento de Alteração da Ordem dos Trabalhos\n",
      "Projeto de Lei (CN) de Lei Orçamentária Anual (LOA)\n",
      "Requerimento de Encerramento da Discussão em Comissão\n",
      "Requerimento de Retirada de Proposição de Iniciativa Coletiva\n",
      "Requerimento de Realização de Diligências em CPI (art. 58, §3º, CF)\n",
      "Requerimento para envio de Solicitação de Informação ao TCU pela Comissão\n",
      "Requerimento de Inclusão de Matéria na Ordem do Dia para Apreciação Imediata na Comissão\n",
      "Mensagem (CN) de Contas do Governo da República, MCN\n",
      "Projeto de Lei (CN)\n",
      "Mensagem que Propõe alteração a Projeto\n",
      "Sugestão\n",
      "Emenda ao Substitutivo\n",
      "Projeto de Resolução\n",
      "Destaque de Preferência\n",
      "Requerimento de Informação\n",
      "Requerimento de Redistribuição\n",
      "Requerimento de Retirada de Pauta\n",
      "Subemenda Substitutiva de Plenário\n",
      "Indicação de Vice-Líder de Partido ou Bloco Parlamentar\n",
      "Projeto de Resolução de Alteração do Regimento e outros\n",
      "Requerimento de Inclusão ou Retirada de Assinatura em Proposição de Iniciativa Individual\n",
      "Relatório do CAE\n",
      "Parecer Reformulado\n",
      "Proposta de Regulamento\n",
      "Adesão a Bloco Parlamentar\n",
      "Renovação Rádio Comunitária\n",
      "Autorização - Rádio Comunitária - Dez anos\n",
      "Emenda de Plenário à MPV (Ato Conjunto 1/20)\n",
      "Requerimento de Retirada de Emenda a Medida Provisória\n",
      "Requerimento Procedimental Genérico de Sessão/Reunião\n",
      "Projeto de Decreto Legislativo de Referendo ou Plebiscito\n",
      "Projeto de Decreto Legislativo de Autorização do Congresso Nacional\n",
      "Defesa Prévia\n",
      "Requerimento de Constituição de Comissão Especial de Projeto de Código\n",
      "Relatório de Atividades do Comitê de Avaliação, Fiscalização e Controle de Execução Orçamentária\n",
      "Requerimento\n",
      "Parecer do Relator\n",
      "Emenda Adotada pela Comissão\n",
      "Requerimento de Voto de pesar\n",
      "Parecer Preliminar de Plenário\n",
      "Comunicação de Medida Cautelar\n",
      "Parecer às Emendas de Plenário\n",
      "Substitutivo adotado pela Comissão\n",
      "Requerimento de Adiamento da Votação\n",
      "Mensagem de Restituição de Autógrafos\n",
      "Projeto de Lei (CN) de Crédito Especial\n",
      "Indicação de Líder de Partido ou Bloco Parlamentar\n",
      "Requerimento de Adiamento de Votação de Matéria Urgente\n",
      "Requerimento de Transformação de Sessão Plenária em Comissão Geral\n",
      "Requerimento de Inclusão de Matéria na Ordem do Dia para Apreciação Imediata\n",
      "Relatório\n",
      "Relatório Setorial\n",
      "Manifestação do Relator\n",
      "Projeto de Lei de Conversão\n",
      "Ato da Presidência da Comissão\n",
      "Relatório Preliminar Apresentado com Emendas\n",
      "Projeto de Lei (CN) de Lei de Diretrizes Orçamentárias (LDO)\n",
      "Requerimento de Retirada de Tramitação de Proposição em Sessão ou Reunião\n",
      "Relatório Parcial\n",
      "Mensagem de Cessão de Imóvel\n",
      "Requerimento de Envio de proposições pendentes de parecer à Comissão seguinte ou ao Plenário\n",
      "Emenda/Substitutivo do Senado\n",
      "Proposta\n",
      "Mensagem (STF)\n",
      "Redação Final\n",
      "Requerimento de Moção\n",
      "Ofício da Primeira-Secretaria\n",
      "Requerimento de Sessão Solene\n",
      "Adesão a Frente Parlamentar Registrada\n",
      "Parecer Preliminar às Emendas de Plenário\n",
      "Requerimento de Votação pelo Processo Nominal\n",
      "Requerimento para Retirada de Tramitação de RPD e DTQs\n",
      "Requerimento de Constituição de Comissão Especial de PEC\n",
      "Projeto de Decreto Legislativo de Sustação de Atos Normativos do Poder Executivo\n",
      "Destaque\n",
      "Reclamação\n",
      "Parecer Vencedor\n",
      "Indicação à Mesa\n",
      "Relatório Preliminar\n",
      "Relatório de Receita\n",
      "Parecer Reformulado de Plenário\n",
      "Mensagem de Retirada de proposição\n",
      "Permissão Rádio Frequência Modulada\n",
      "Concessão Radiodifusão Sons e Imagens\n",
      "Renovação Rádio Frequência Modulada\n",
      "Requerimento de Encerramento da Discussão\n",
      "Desligamento de Grupo Parlamentar Registrado\n",
      "Requerimento de Urgência (art. 154, I ou III, do RICD)\n",
      "Requerimento de Constituição de Comissão Especial de Estudo\n",
      "Projeto de Decreto Legislativo de Alteração de Decreto Legislativo\n",
      "Projeto de Lei (CN) de Alteração da LDO\n",
      "Renovação Rádio Ondas Médias adaptada para Frequência Modulada\n",
      "Ofício\n",
      "Voto em Separado\n",
      "Complementação de Voto\n",
      "Desligamento de Bloco Parlamentar\n",
      "Proposta de Fiscalização e Controle\n",
      "Adesão a Grupo Parlamentar Registrado\n",
      "Aviso (CN) de Relatório de Gestão Fiscal\n",
      "Desligamento de Frente Parlamentar Registrada\n",
      "Requerimento Procedimental de Sessão/Reunião\n",
      "Requerimento de Urgência (Art. 154, II, do RICD)\n",
      "Requerimento de Constituição de Comissão Externa\n",
      "Requerimento Procedimental Genérico de Sessão/Reunião\n",
      "Requerimento para envio de ofício solicitando informações\n",
      "Requerimento de Constituição de Comissão Especial de Projeto\n",
      "Requerimento de Encerramento da Discussão e do Encaminhamento de Matéria Urgente\n",
      "Recurso contra parecer terminativo de comissão (Art. 132, § 2º c/c art. 144, caput, RICD)\n",
      "Renovação TV Sons e Imagens\n",
      "Requerimento de Desarquivamento de Proposições\n",
      "Renovação Rádio Frequência Modulada Educativa\n",
      "Projeto de Decreto Legislativo de Medida Provisória\n",
      "Requerimento de Quebra de Sigilo em CPI (art. 58, §3º, CF)\n",
      "Aviso (CN) de Subtítulos com Indícios de Irregularidades Graves Apontadas pelo TCU\n",
      "Recurso contra decisão de Presidente de Comissão em Questão de Ordem (Art. 57, XXI c/c art. 17, III, f, RICD)\n",
      "Destaque Simples\n",
      "Mensagem de Perempção de Rádio/TV\n",
      "Parecer Reformulado de Plenário às Emendas de Plenário\n",
      "Recurso contra redistribuição de proposição (Art. 141, RICD)\n",
      "Requerimento de Inclusão na Ordem do Dia de proposição (Durante o período ordinário)\n",
      "Ata\n",
      "Autógrafo\n",
      "Aviso (CN)\n",
      "Indicação\n",
      "Medida Provisória\n",
      "Parecer de Comissão\n",
      "Subemenda de Relator\n",
      "Requerimento (Outros)\n",
      "Projeto de Lei Complementar\n",
      "Requerimento de Desapensação\n",
      "Mensagem de Indicação de Líder\n",
      "Mensagem de Cancelamento de Urgência\n",
      "Requerimento de Retirada de Proposição\n",
      "Parecer às Emendas ou ao Substitutivo do Senado\n",
      "Requerimento de Adiamento da Discussão de Matéria Urgente\n",
      "Mensagem de Acordos, convênios, tratados e atos internacionais\n",
      "Requerimento de Retirada de Proposição de Iniciativa Individual\n",
      "Requerimento de Convocação de Ministro de Estado no Plenário (art. 50, CF)\n",
      "Requerimento de Inclusão ou Retirada de Assinatura em Proposição de Iniciativa Coletiva Obrigatória\n",
      "Consulta\n",
      "Emenda à LDO\n",
      "Emenda ao Orçamento\n",
      "Renovação Rádio Ondas Médias\n",
      "Proposta de Instrução Normativa\n",
      "Relatório Adotado pela Comissão\n",
      "Requerimento de Inserção nos Anais\n",
      "Permissão Frequência Modulada Educativa\n",
      "Sugestão de Emenda ao Orçamento - Comissões\n",
      "Mensagem de Concessão ou Renovação de Rádio e TV\n",
      "Requerimento de Inclusão na Ordem do Dia (Res 14/20, art. 4º, §3º)\n",
      "Recurso contra decisão do Presidente da CD em Questao de Ordem (Art. 95, § 8º, RICD)\n",
      "Subemenda\n",
      "Parecer Técnico\n",
      "Relatório Prévio\n",
      "Projeto de Resolução do Congresso Nacional\n",
      "Manifestação pela Prejudicialidade da Matéria\n",
      "Parecer às Emendas ou ao Substitutivo do Senado - Notas Taquigráficas\n",
      "Recurso contra decisão de presidente de Comissão em Reclamação (Art. 96, § 2º, RICD)\n"
     ]
    },
    {
     "name": "stderr",
     "output_type": "stream",
     "text": [
      "\n"
     ]
    }
   ],
   "source": [
    "# SQL query\n",
    "\n",
    "list_types = '''\n",
    "SELECT DISTINCT\n",
    "  sigla,\n",
    "  tipo,\n",
    "FROM `basedosdados.br_camara_dados_abertos.proposicao_microdados` AS dados\n",
    "WHERE (dados.data > '2022-01-01' AND dados.data < '2024-04-01')\n",
    "'''\n",
    "\n",
    "# Read query via 'Base dos dados' Google Cloud API\n",
    "projects_list = bd.read_sql(list_types, billing_project_id='anpec-base-dos-dados')\n",
    "\n",
    "print('**LISTA DOS DIVERSOS TIPOS DE PROPOSIÇÃO**')\n",
    "for n in projects_list['tipo']:\n",
    "    print(n)"
   ]
  },
  {
   "cell_type": "markdown",
   "id": "97c52848-da68-4098-9f87-2ed2fb3f2f4d",
   "metadata": {},
   "source": [
    "- [Projeto de Lei](https://www.congressonacional.leg.br/legislacao-e-publicacoes/glossario-legislativo/-/legislativo/termo/projeto_de_lei_pl) - Proposição de uma lei ordinária, vai ser sancionado (aprovado) pelo presidente da república\n",
    "- [Projeto de Lei Complementar](https://www.congressonacional.leg.br/legislacao-e-publicacoes/glossario-legislativo/-/legislativo/termo/lei_complementar_lc) - adiciona detalhes a uma lei já aprovada\n",
    "- [Redação Final](https://www.congressonacional.leg.br/legislacao-e-publicacoes/glossario-legislativo/-/legislativo/termo/redacao_final) - texto do projeto de lei a ser votado pelo plenário da câmara\n",
    "\n",
    "  **Projeto de lei é a lei quando recém proposta, ainda precisando ser votada pela plenária da câmara e senado (quando se aplica). Redação final é o projeto já ajustado pela Câmara e Senado, antes de ir para sanção (aprovação) do Presidente da República**\n",
    "\n",
    "[Processo legislativo](https://www.camara.leg.br/entenda-o-processo-legislativo/)"
   ]
  },
  {
   "cell_type": "markdown",
   "id": "c0ebe9e2-369e-42e5-a88e-569a74d06e53",
   "metadata": {},
   "source": [
    "## Detalhamento do tipo 'Projeto de Lei'"
   ]
  },
  {
   "cell_type": "code",
   "execution_count": 25,
   "id": "056b7e6d-30fe-4652-9564-86d1d7eee289",
   "metadata": {},
   "outputs": [
    {
     "name": "stderr",
     "output_type": "stream",
     "text": [
      "Downloading: 100%|█████████████████████████████████████████████████████████████| 8904/8904 [00:06<00:00, 1453.49rows/s]\n"
     ]
    }
   ],
   "source": [
    "# SQL query\n",
    "\n",
    "query_projects = '''\n",
    "SELECT DISTINCT\n",
    "  sigla,\n",
    "  tipo,\n",
    "  ementa,\n",
    "  ementa_detalhada,\n",
    "  palavra_chave,\n",
    "  situacao_ultimo_status,\n",
    "  apreciacao_ultimo_status,\n",
    "  url_teor_proposicao\n",
    "FROM `basedosdados.br_camara_dados_abertos.proposicao_microdados` AS dados\n",
    "WHERE (dados.data > '2022-01-01' AND dados.data < '2024-04-01')\n",
    "AND dados.tipo = 'Projeto de Lei'\n",
    "'''\n",
    "\n",
    "# Read query via 'Base dos dados' Google Cloud API\n",
    "projects = bd.read_sql(query_projects, billing_project_id='anpec-base-dos-dados')"
   ]
  },
  {
   "cell_type": "code",
   "execution_count": 5,
   "id": "0e933c92-f614-4672-98cb-bb90622bcda1",
   "metadata": {},
   "outputs": [
    {
     "data": {
      "text/plain": [
       "Projeto de Lei    8897\n",
       "Name: tipo, dtype: int64"
      ]
     },
     "execution_count": 5,
     "metadata": {},
     "output_type": "execute_result"
    }
   ],
   "source": [
    "# contagem de projetos de lei no período\n",
    "\n",
    "projects[projects['tipo'] == \"Projeto de Lei\"]['tipo'].value_counts()"
   ]
  },
  {
   "cell_type": "code",
   "execution_count": 60,
   "id": "8b1d8746-595e-4bfa-b9d9-b723819f52a2",
   "metadata": {
    "scrolled": true
   },
   "outputs": [
    {
     "name": "stdout",
     "output_type": "stream",
     "text": [
      "Altera a Lei nº 9.503, de 23 de setembro de 1997, que institui o Código de Trânsito Brasileiro, para determinar que os      micro-ônibus e ônibus empregados nos serviços de transporte coletivo de passageiros possuam botão de pânico.\n",
      "Denomina “João Bosco de Aquino Araújo” o trecho rodoviário no Km 468,6 da BR-070 (GO) até o Km 6,7 da BR-070 (MT), no Contorno Rodoviário de Aragarças (GO), Pontal do Araguaia (MT) e Barra do Garças (MT).\n",
      "Dispõe sobre a prestação de serviços médicos\n",
      "Dispõe sobre a obrigatoriedade de afixação de cartazes, adesivos ou placas informativas em idiomas distintos nos locais de acesso e permanência de turistas público ou privado, contendo as informações de utilidade e segurança pública aos turistas nos Estados do Brasil, assim como, informações sobre os meios de denúncias, contato e endereço com localização da Delegacia de Proteção ao Turista.\n",
      "Altera a Lei nº 14.597, de 14 de junho de 2023, que institui a Lei Geral do Esporte, para dispor sobre a aplicabilidade das relações de consumo nos eventos esportivos.\n"
     ]
    }
   ],
   "source": [
    "# campo de emenda é a descrição do projeto de lei\n",
    "\n",
    "for n in projects['ementa'][:5]:\n",
    "    print(n)"
   ]
  },
  {
   "cell_type": "code",
   "execution_count": 61,
   "id": "42130f30-e6a8-42c0-9049-fbd833206a68",
   "metadata": {},
   "outputs": [
    {
     "name": "stdout",
     "output_type": "stream",
     "text": [
      "Alteração, Código de Trânsito Brasileiro, equipamento obrigatório, micro-ônibus, ônibus, transporte coletivo, transporte de passageiro, botão de pânico, segurança pública.\n",
      "None\n",
      "Disciplinamento, Prestação de serviços, serviços médicos.\n",
      "None\n",
      "None\n"
     ]
    }
   ],
   "source": [
    "# a própria base de dados já tem um label com palavras chaves do projeto de lei\n",
    "\n",
    "for n in projects['palavra_chave'][:5]:\n",
    "    print(n)"
   ]
  },
  {
   "cell_type": "code",
   "execution_count": 9,
   "id": "2e3fd3e4-3fd3-4f5e-8ba0-d0e822a42a34",
   "metadata": {},
   "outputs": [
    {
     "data": {
      "text/plain": [
       "Tramitando em Conjunto              4338\n",
       "Aguardando Designação de Relator    1402\n",
       "Aguardando Parecer                  1235\n",
       "Pronta para Pauta                    417\n",
       "Arquivada                            239\n",
       "Name: situacao_ultimo_status, dtype: int64"
      ]
     },
     "execution_count": 9,
     "metadata": {},
     "output_type": "execute_result"
    }
   ],
   "source": [
    "# status da proposta, não consegui encontrar algo que indique se o projeto de lei foi aprovado\n",
    "\n",
    "projects['situacao_ultimo_status'].value_counts().head(5)"
   ]
  },
  {
   "cell_type": "code",
   "execution_count": 33,
   "id": "f98246a8-7fb8-49ad-8111-cabededa6173",
   "metadata": {},
   "outputs": [
    {
     "data": {
      "text/plain": [
       "'Denomina “João Bosco de Aquino Araújo” o trecho rodoviário no Km 468,6 da BR-070 (GO) até o Km 6,7 da BR-070 (MT), no Contorno Rodoviário de Aragarças (GO), Pontal do Araguaia (MT) e Barra do Garças (MT).'"
      ]
     },
     "execution_count": 33,
     "metadata": {},
     "output_type": "execute_result"
    }
   ],
   "source": [
    "# exemplo de ementa\n",
    "\n",
    "projects['ementa'][1]"
   ]
  },
  {
   "cell_type": "code",
   "execution_count": 57,
   "id": "52c8b40c-1166-4e61-b315-ef798e6d005a",
   "metadata": {},
   "outputs": [
    {
     "data": {
      "text/plain": [
       "'https://www.camara.leg.br/proposicoesWeb/prop_mostrarintegra?codteor=2382689'"
      ]
     },
     "execution_count": 57,
     "metadata": {},
     "output_type": "execute_result"
    }
   ],
   "source": [
    "# exemplo de texto completo do projeto de lei\n",
    "\n",
    "project_url = projects['url_teor_proposicao'][1]\n",
    "project_url"
   ]
  },
  {
   "cell_type": "markdown",
   "id": "5cb86921-1cae-4a73-9c5d-dc858206d85c",
   "metadata": {},
   "source": [
    "## Detalhamento do tipo 'Redação Final'"
   ]
  },
  {
   "cell_type": "code",
   "execution_count": 24,
   "id": "11830828-838d-4b6f-ba51-540ce927f7b6",
   "metadata": {},
   "outputs": [
    {
     "name": "stderr",
     "output_type": "stream",
     "text": [
      "Downloading: 100%|█████████████████████████████████████████████████████████████| 1559/1559 [00:00<00:00, 2630.57rows/s]\n"
     ]
    }
   ],
   "source": [
    "# SQL query\n",
    "\n",
    "query_writing = '''\n",
    "SELECT DISTINCT\n",
    "  sigla,\n",
    "  tipo,\n",
    "  ementa,\n",
    "  ementa_detalhada,\n",
    "  palavra_chave,\n",
    "  situacao_ultimo_status,\n",
    "  apreciacao_ultimo_status,\n",
    "  url_teor_proposicao\n",
    "FROM `basedosdados.br_camara_dados_abertos.proposicao_microdados` AS dados\n",
    "WHERE (dados.data > '2022-01-01' AND dados.data < '2024-04-01')\n",
    "AND dados.tipo = 'Redação Final'\n",
    "'''\n",
    "\n",
    "# Read query via 'Base dos dados' Google Cloud API\n",
    "writing = bd.read_sql(query_writing, billing_project_id='anpec-base-dos-dados')"
   ]
  },
  {
   "cell_type": "code",
   "execution_count": 12,
   "id": "e1e368d7-0b65-4dcf-8003-abad38646a8b",
   "metadata": {},
   "outputs": [
    {
     "data": {
      "text/plain": [
       "Redação Final    1521\n",
       "Name: tipo, dtype: int64"
      ]
     },
     "execution_count": 12,
     "metadata": {},
     "output_type": "execute_result"
    }
   ],
   "source": [
    "# contagem de redações finais, menos do que projetos de lei, já que ela seria um estágio mais avançad\n",
    "\n",
    "writing[writing['tipo'] == \"Redação Final\"]['tipo'].value_counts()"
   ]
  },
  {
   "cell_type": "code",
   "execution_count": 68,
   "id": "bc6552c6-9854-492f-b722-1e102e411648",
   "metadata": {},
   "outputs": [
    {
     "name": "stdout",
     "output_type": "stream",
     "text": [
      "Redação Final do PL 4519/2019\n",
      "Redação Final do PDL 303/23\n",
      "Altera a Consolidação das Leis do Trabalho (CLT), aprovada pelo Decreto-Lei nº 5.452, de 1º de maio de 1943, para determinar que as empresas disponibilizem a seus empregados informações sobre campanhas oficiais de vacinação, sobre o papilomavírus humano (HPV) e sobre os cânceres de mama, de colo do útero e de próstata.\n",
      "Dispõe sobre o direito a indenização por dano moral e a concessão de pensão especial à pessoa com deficiência permanente decorrente de síndrome congênita associada à infecção pelo vírus Zika ou de Síndrome de Guillain-Barré causada pelo vírus Zika, e altera a Consolidação das Leis do Trabalho, aprovada pelo Decreto-Lei nº 5.452, de 1º de maio de 1943, e as Leis nºs 8.742, de 7 de dezembro de 1993, e 8.213, de 24 de julho de 1991.\n",
      "Redação Final do PDL 284/22\n"
     ]
    }
   ],
   "source": [
    "# ementa da redação final não é uma descrição tão boa, em muitas linhas só é a referência a um projeto de lei\n",
    "\n",
    "for n in writing['ementa'][92:97]:\n",
    "    print(n)"
   ]
  },
  {
   "cell_type": "code",
   "execution_count": 14,
   "id": "cdab9d42-9cb4-40c6-89d4-ca4633bd0617",
   "metadata": {},
   "outputs": [
    {
     "data": {
      "text/plain": [
       "Aguardando Providências Internas             396\n",
       "Pronta para Pauta                             77\n",
       "Aguardando Apreciação pelo Senado Federal      1\n",
       "Aguardando Leitura e Publicação                1\n",
       "Aguardando Recebimento                         1\n",
       "Name: situacao_ultimo_status, dtype: int64"
      ]
     },
     "execution_count": 14,
     "metadata": {},
     "output_type": "execute_result"
    }
   ],
   "source": [
    "# status da proposta, não consegui encontrar algo que indique se o projeto de lei foi aprovado\n",
    "\n",
    "writing['situacao_ultimo_status'].value_counts()"
   ]
  },
  {
   "cell_type": "code",
   "execution_count": 30,
   "id": "1ae38c48-d044-46ca-a8d8-a223b3b15054",
   "metadata": {},
   "outputs": [
    {
     "data": {
      "text/plain": [
       "'Inscreve o nome de Zilda Arns Neumannno Livro dos Heróis e Heroínas daPátria.'"
      ]
     },
     "execution_count": 30,
     "metadata": {},
     "output_type": "execute_result"
    }
   ],
   "source": [
    "# Exemplo de ementa\n",
    "\n",
    "writing['ementa'][1]"
   ]
  },
  {
   "cell_type": "code",
   "execution_count": 50,
   "id": "ea7cbb94-d8b6-418e-a3cf-575b7fcb2a0c",
   "metadata": {},
   "outputs": [
    {
     "data": {
      "text/plain": [
       "'https://www.camara.leg.br/proposicoesWeb/prop_mostrarintegra?codteor=2162544'"
      ]
     },
     "execution_count": 50,
     "metadata": {},
     "output_type": "execute_result"
    }
   ],
   "source": [
    "# Exemplo de texto da redação final\n",
    "\n",
    "writing_url = writing['url_teor_proposicao'][1]\n",
    "writing_url"
   ]
  },
  {
   "cell_type": "code",
   "execution_count": 48,
   "id": "2dd5dd0a-3ea6-47d5-9d4b-1522de10589a",
   "metadata": {},
   "outputs": [],
   "source": [
    "import io\n",
    "import requests\n",
    "import PyPDF2"
   ]
  },
  {
   "cell_type": "code",
   "execution_count": 52,
   "id": "469b2a8f-768c-4e95-937f-9be7b65e5505",
   "metadata": {},
   "outputs": [
    {
     "ename": "PdfReadError",
     "evalue": "EOF marker not found",
     "output_type": "error",
     "traceback": [
      "\u001b[1;31m---------------------------------------------------------------------------\u001b[0m",
      "\u001b[1;31mPdfReadError\u001b[0m                              Traceback (most recent call last)",
      "Cell \u001b[1;32mIn[52], line 4\u001b[0m\n\u001b[0;32m      1\u001b[0m r \u001b[38;5;241m=\u001b[39m requests\u001b[38;5;241m.\u001b[39mget(writing_url)\n\u001b[0;32m      2\u001b[0m f \u001b[38;5;241m=\u001b[39m io\u001b[38;5;241m.\u001b[39mBytesIO(r\u001b[38;5;241m.\u001b[39mcontent)\n\u001b[1;32m----> 4\u001b[0m reader \u001b[38;5;241m=\u001b[39m \u001b[43mPyPDF2\u001b[49m\u001b[38;5;241;43m.\u001b[39;49m\u001b[43mPdfReader\u001b[49m\u001b[43m(\u001b[49m\u001b[43mf\u001b[49m\u001b[43m)\u001b[49m\n\u001b[0;32m      5\u001b[0m pages \u001b[38;5;241m=\u001b[39m reader\u001b[38;5;241m.\u001b[39mpages\n\u001b[0;32m      6\u001b[0m \u001b[38;5;66;03m# get all pages data\u001b[39;00m\n",
      "File \u001b[1;32m~\\AppData\\Roaming\\Python\\Python310\\site-packages\\PyPDF2\\_reader.py:319\u001b[0m, in \u001b[0;36mPdfReader.__init__\u001b[1;34m(self, stream, strict, password)\u001b[0m\n\u001b[0;32m    317\u001b[0m     \u001b[38;5;28;01mwith\u001b[39;00m \u001b[38;5;28mopen\u001b[39m(stream, \u001b[38;5;124m\"\u001b[39m\u001b[38;5;124mrb\u001b[39m\u001b[38;5;124m\"\u001b[39m) \u001b[38;5;28;01mas\u001b[39;00m fh:\n\u001b[0;32m    318\u001b[0m         stream \u001b[38;5;241m=\u001b[39m BytesIO(fh\u001b[38;5;241m.\u001b[39mread())\n\u001b[1;32m--> 319\u001b[0m \u001b[38;5;28;43mself\u001b[39;49m\u001b[38;5;241;43m.\u001b[39;49m\u001b[43mread\u001b[49m\u001b[43m(\u001b[49m\u001b[43mstream\u001b[49m\u001b[43m)\u001b[49m\n\u001b[0;32m    320\u001b[0m \u001b[38;5;28mself\u001b[39m\u001b[38;5;241m.\u001b[39mstream \u001b[38;5;241m=\u001b[39m stream\n\u001b[0;32m    322\u001b[0m \u001b[38;5;28mself\u001b[39m\u001b[38;5;241m.\u001b[39m_override_encryption \u001b[38;5;241m=\u001b[39m \u001b[38;5;28;01mFalse\u001b[39;00m\n",
      "File \u001b[1;32m~\\AppData\\Roaming\\Python\\Python310\\site-packages\\PyPDF2\\_reader.py:1415\u001b[0m, in \u001b[0;36mPdfReader.read\u001b[1;34m(self, stream)\u001b[0m\n\u001b[0;32m   1413\u001b[0m \u001b[38;5;28;01mdef\u001b[39;00m \u001b[38;5;21mread\u001b[39m(\u001b[38;5;28mself\u001b[39m, stream: StreamType) \u001b[38;5;241m-\u001b[39m\u001b[38;5;241m>\u001b[39m \u001b[38;5;28;01mNone\u001b[39;00m:\n\u001b[0;32m   1414\u001b[0m     \u001b[38;5;28mself\u001b[39m\u001b[38;5;241m.\u001b[39m_basic_validation(stream)\n\u001b[1;32m-> 1415\u001b[0m     \u001b[38;5;28;43mself\u001b[39;49m\u001b[38;5;241;43m.\u001b[39;49m\u001b[43m_find_eof_marker\u001b[49m\u001b[43m(\u001b[49m\u001b[43mstream\u001b[49m\u001b[43m)\u001b[49m\n\u001b[0;32m   1416\u001b[0m     startxref \u001b[38;5;241m=\u001b[39m \u001b[38;5;28mself\u001b[39m\u001b[38;5;241m.\u001b[39m_find_startxref_pos(stream)\n\u001b[0;32m   1418\u001b[0m     \u001b[38;5;66;03m# check and eventually correct the startxref only in not strict\u001b[39;00m\n",
      "File \u001b[1;32m~\\AppData\\Roaming\\Python\\Python310\\site-packages\\PyPDF2\\_reader.py:1471\u001b[0m, in \u001b[0;36mPdfReader._find_eof_marker\u001b[1;34m(self, stream)\u001b[0m\n\u001b[0;32m   1469\u001b[0m \u001b[38;5;28;01mwhile\u001b[39;00m line[:\u001b[38;5;241m5\u001b[39m] \u001b[38;5;241m!=\u001b[39m \u001b[38;5;124mb\u001b[39m\u001b[38;5;124m\"\u001b[39m\u001b[38;5;132;01m%%\u001b[39;00m\u001b[38;5;124mEOF\u001b[39m\u001b[38;5;124m\"\u001b[39m:\n\u001b[0;32m   1470\u001b[0m     \u001b[38;5;28;01mif\u001b[39;00m stream\u001b[38;5;241m.\u001b[39mtell() \u001b[38;5;241m<\u001b[39m last_mb:\n\u001b[1;32m-> 1471\u001b[0m         \u001b[38;5;28;01mraise\u001b[39;00m PdfReadError(\u001b[38;5;124m\"\u001b[39m\u001b[38;5;124mEOF marker not found\u001b[39m\u001b[38;5;124m\"\u001b[39m)\n\u001b[0;32m   1472\u001b[0m     line \u001b[38;5;241m=\u001b[39m read_previous_line(stream)\n",
      "\u001b[1;31mPdfReadError\u001b[0m: EOF marker not found"
     ]
    }
   ],
   "source": [
    "# Tentativa de extrair texto do pdf da redação final\n",
    "\n",
    "r = requests.get(writing_url)\n",
    "f = io.BytesIO(r.content)\n",
    "\n",
    "reader = PyPDF2.PdfReader(f)\n",
    "pages = reader.pages\n",
    "text = \"\".join([page.extract_text() for page in pages])"
   ]
  }
 ],
 "metadata": {
  "kernelspec": {
   "display_name": "Python 3 (ipykernel)",
   "language": "python",
   "name": "python3"
  },
  "language_info": {
   "codemirror_mode": {
    "name": "ipython",
    "version": 3
   },
   "file_extension": ".py",
   "mimetype": "text/x-python",
   "name": "python",
   "nbconvert_exporter": "python",
   "pygments_lexer": "ipython3",
   "version": "3.10.5"
  }
 },
 "nbformat": 4,
 "nbformat_minor": 5
}
