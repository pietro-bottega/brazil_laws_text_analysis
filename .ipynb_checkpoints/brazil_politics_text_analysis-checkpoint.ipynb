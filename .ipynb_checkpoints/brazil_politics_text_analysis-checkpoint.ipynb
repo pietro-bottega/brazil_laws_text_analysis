{
 "cells": [
  {
   "cell_type": "code",
   "execution_count": 4,
   "id": "46314032-50ed-4dfa-a745-b3ac2ed02c7e",
   "metadata": {},
   "outputs": [],
   "source": [
    "import basedosdados as bd\n",
    "import pandas as pd"
   ]
  },
  {
   "cell_type": "markdown",
   "id": "44bbd424-bbab-49bf-bba6-4763200be5bc",
   "metadata": {},
   "source": [
    "## Seleção do período:\n",
    "- desde 2022-01-01, início do atual mandato da câmara de deputados\n",
    "- até 2024-04-01, limite do dataset com acesso gratuito "
   ]
  },
  {
   "cell_type": "markdown",
   "id": "d13147f8-2933-4f47-9dd5-c1b0e4310d11",
   "metadata": {},
   "source": [
    "# Passo a passo\n",
    "\n",
    "### Passo 1: Análise de texto de leis propostas\n",
    "\n",
    "Cada linha da base de dados corresponde a uma proposição, que pode ser de variados tipos.\n",
    "Algumas características da proposição, presente em colunas na tabela:\n",
    "- ementa: descrição breve da proposição\n",
    "- tipo: os que parecem ser mais relevantes são \"Projeto de Lei\" (recém proposto pelo parlamentar) ou \"Redação Final\" (depois de votado pela câmara, antes de ser sancionado como lei)\n",
    "- teor_completo: URL para o arquivo de PDF que corresponde à ementa\n",
    "- palavra_chave: o que seria um resultado possível da lemmatização\n",
    "\n",
    "#### Processo de análise\n",
    "1. Definição de qual texto vai ser utilizado para análise (seção a seguir)\n",
    "2. Lemmatizar o texto (manter a raiz das palavras) e remover stopwords\n",
    "3. Criar matriz de vetores para bag of words\n",
    "\n",
    "#### Formas de analisar as leis propostas:\n",
    "\n",
    "1. Usar o texto completo da proposição, seja do Projeto de Lei ou da Redação Final. Precisa fazer HTTPS request para acessar a URL.\n",
    "2. Usar a ementa da proposição, uma descrição mais breve, de um parágrafo.\n",
    "3. Usar a coluna palavra_chave, assim seria possível pular diretamente para o passo 3 do processo, já que essa campo já seria o resultado de uma lemmatização\n",
    "\n",
    "### Passo 2: Correlação com temas das leis propostas e sua aprovação\n",
    "\n",
    "Essa base de dados tem outras tabelas relacionadas à votação, também com o ID da proposição. Mas precisa investigar mais pra entender qual proposição representa a votação do PL antes de passar à sanção do presidente da república (último passo).\n",
    "\n"
   ]
  },
  {
   "cell_type": "markdown",
   "id": "5023ded4-0b00-4831-adc5-ff9fa84b17d9",
   "metadata": {},
   "source": [
    "# Análise Exploratória"
   ]
  },
  {
   "cell_type": "markdown",
   "id": "3897f112-e3a7-4816-ac37-626efff64bdc",
   "metadata": {
    "jp-MarkdownHeadingCollapsed": true
   },
   "source": [
    "## Tipos de proposição "
   ]
  },
  {
   "cell_type": "code",
   "execution_count": 7,
   "id": "b0652045-9ce9-4f47-a6e5-1f4ee47cb7e7",
   "metadata": {
    "scrolled": true
   },
   "outputs": [
    {
     "name": "stderr",
     "output_type": "stream",
     "text": [
      "Downloading: 100%|█████████████████████████████████████████████████████████████████| 235/235 [00:00<00:00, 594.29rows/s]"
     ]
    },
    {
     "name": "stdout",
     "output_type": "stream",
     "text": [
      "**EXEMPLO DOS DIVERSOS TIPOS DE PROPOSIÇÃO (TOTAL: 235)**\n",
      "Projeto de Decreto Legislativo\n",
      "Recurso\n",
      "Destaque de Emenda\n",
      "Emenda na Comissão\n",
      "Ofício do Congresso Nacional\n",
      "Parecer Proferido em Plenário\n",
      "Requerimento de Prejudicialidade\n",
      "Requerimento de Audiência Pública\n",
      "Solicitação de Informação ao TCU\n",
      "Mensagem de Solicitação de urgência\n"
     ]
    },
    {
     "name": "stderr",
     "output_type": "stream",
     "text": [
      "\n"
     ]
    }
   ],
   "source": [
    "# SQL query\n",
    "\n",
    "list_types = '''\n",
    "SELECT DISTINCT\n",
    "  sigla,\n",
    "  tipo,\n",
    "FROM `basedosdados.br_camara_dados_abertos.proposicao_microdados` AS dados\n",
    "WHERE (dados.data > '2022-01-01' AND dados.data < '2024-04-01')\n",
    "'''\n",
    "\n",
    "# Read query via 'Base dos dados' Google Cloud API\n",
    "projects_list = bd.read_sql(list_types, billing_project_id='anpec-base-dos-dados')\n",
    "\n",
    "print('**EXEMPLO DOS DIVERSOS TIPOS DE PROPOSIÇÃO (TOTAL: 235)**')\n",
    "for n in projects_list['tipo'][:10]:\n",
    "    print(n)"
   ]
  },
  {
   "cell_type": "markdown",
   "id": "97c52848-da68-4098-9f87-2ed2fb3f2f4d",
   "metadata": {},
   "source": [
    "- [Projeto de Lei](https://www.congressonacional.leg.br/legislacao-e-publicacoes/glossario-legislativo/-/legislativo/termo/projeto_de_lei_pl) - Proposição de uma lei ordinária, vai ser sancionado (aprovado) pelo presidente da república\n",
    "- [Projeto de Lei Complementar](https://www.congressonacional.leg.br/legislacao-e-publicacoes/glossario-legislativo/-/legislativo/termo/lei_complementar_lc) - adiciona detalhes a uma lei já aprovada\n",
    "- [Redação Final](https://www.congressonacional.leg.br/legislacao-e-publicacoes/glossario-legislativo/-/legislativo/termo/redacao_final) - texto do projeto de lei a ser votado pelo plenário da câmara\n",
    "\n",
    "**Projeto de lei é a lei quando recém proposta, ainda precisando ser votada pela plenária da câmara e senado (quando se aplica). Redação final é o projeto já ajustado pela Câmara e Senado, antes de ir para sanção (aprovação) do Presidente da República**\n",
    "Referências: [Processo legislativo](https://www.camara.leg.br/entenda-o-processo-legislativo/)"
   ]
  },
  {
   "cell_type": "markdown",
   "id": "c0ebe9e2-369e-42e5-a88e-569a74d06e53",
   "metadata": {
    "jp-MarkdownHeadingCollapsed": true
   },
   "source": [
    "## Detalhamento do tipo 'Projeto de Lei'"
   ]
  },
  {
   "cell_type": "code",
   "execution_count": 8,
   "id": "056b7e6d-30fe-4652-9564-86d1d7eee289",
   "metadata": {},
   "outputs": [
    {
     "name": "stderr",
     "output_type": "stream",
     "text": [
      "Downloading: 100%|██████████████████████████████████████████████████████████████| 8904/8904 [00:06<00:00, 1291.32rows/s]\n"
     ]
    }
   ],
   "source": [
    "# SQL query\n",
    "\n",
    "query_projects = '''\n",
    "SELECT DISTINCT\n",
    "  sigla,\n",
    "  tipo,\n",
    "  ementa,\n",
    "  ementa_detalhada,\n",
    "  palavra_chave,\n",
    "  situacao_ultimo_status,\n",
    "  apreciacao_ultimo_status,\n",
    "  url_teor_proposicao,\n",
    "  id_proposicao\n",
    "FROM `basedosdados.br_camara_dados_abertos.proposicao_microdados` AS dados\n",
    "WHERE (dados.data > '2022-01-01' AND dados.data < '2024-04-01')\n",
    "AND dados.tipo = 'Projeto de Lei'\n",
    "'''\n",
    "\n",
    "# Read query via 'Base dos dados' Google Cloud API\n",
    "projects = bd.read_sql(query_projects, billing_project_id='anpec-base-dos-dados')"
   ]
  },
  {
   "cell_type": "code",
   "execution_count": 9,
   "id": "0e933c92-f614-4672-98cb-bb90622bcda1",
   "metadata": {},
   "outputs": [
    {
     "data": {
      "text/plain": [
       "Projeto de Lei    8904\n",
       "Name: tipo, dtype: int64"
      ]
     },
     "execution_count": 9,
     "metadata": {},
     "output_type": "execute_result"
    }
   ],
   "source": [
    "# contagem de projetos de lei no período\n",
    "\n",
    "projects[projects['tipo'] == \"Projeto de Lei\"]['tipo'].value_counts()"
   ]
  },
  {
   "cell_type": "code",
   "execution_count": 15,
   "id": "f98246a8-7fb8-49ad-8111-cabededa6173",
   "metadata": {},
   "outputs": [
    {
     "data": {
      "text/plain": [
       "'Altera a Lei nº 10.826, de 22 de dezembro de de 2003, que dispõe sobre registro, posse e comercialização de armas de fogo e munição, sobre o Sistema Nacional de Armas – Sinarm, define crimes e dá outras providências.'"
      ]
     },
     "execution_count": 15,
     "metadata": {},
     "output_type": "execute_result"
    }
   ],
   "source": [
    "# exemplo de ementa\n",
    "\n",
    "projects['ementa'][0]"
   ]
  },
  {
   "cell_type": "code",
   "execution_count": 16,
   "id": "52c8b40c-1166-4e61-b315-ef798e6d005a",
   "metadata": {},
   "outputs": [
    {
     "data": {
      "text/plain": [
       "'https://www.camara.leg.br/proposicoesWeb/prop_mostrarintegra?codteor=2206154'"
      ]
     },
     "execution_count": 16,
     "metadata": {},
     "output_type": "execute_result"
    }
   ],
   "source": [
    "# exemplo de texto completo do projeto de lei\n",
    "\n",
    "project_url = projects['url_teor_proposicao'][0]\n",
    "project_url"
   ]
  },
  {
   "cell_type": "code",
   "execution_count": 18,
   "id": "42130f30-e6a8-42c0-9049-fbd833206a68",
   "metadata": {},
   "outputs": [
    {
     "name": "stdout",
     "output_type": "stream",
     "text": [
      "Alteração, Estatuto do Desarmamento, expedição, Certificado de Registro de Arma de Fogo, autoridade competente, Sistema Nacional de Armas (Sinarm), Sistema de Gerenciamento Militar de Armas (SIGMA), documento, direito de propriedade, arma de fogo. _Requisito, aquisição, arma de fogo, comprovação, idoneidade, substituição, certidão de objeto e pé, quantidade. _ Certificado de Registro de Arma de Fogo, autorização, proprietário, transporte, arma de fogo, ausência, munição. _ Porte de arma, validade, território nacional, caráter pessoal, intransferibilidade. _Autorização, utilização, arma, acervo museológico, tiro esportivo, caça, coleção, defesa pessoa, Legítima defesa. _Competência, Ministério da Justiça e Segurança Pública, autorização, porte de arma, responsável legal, segurança, estrangeiro. _Classificação, arma, uso permitido. _Taxa, emissão, porte de arma. _Aquisição, arma, Comando militar de área.\n"
     ]
    }
   ],
   "source": [
    "# a própria base de dados já tem um label com palavras chaves do projeto de lei\n",
    "\n",
    "for n in projects['palavra_chave'][:1]:\n",
    "    print(n)"
   ]
  },
  {
   "cell_type": "markdown",
   "id": "5cb86921-1cae-4a73-9c5d-dc858206d85c",
   "metadata": {},
   "source": [
    "## Detalhamento do tipo 'Redação Final'"
   ]
  },
  {
   "cell_type": "code",
   "execution_count": 19,
   "id": "11830828-838d-4b6f-ba51-540ce927f7b6",
   "metadata": {},
   "outputs": [
    {
     "name": "stderr",
     "output_type": "stream",
     "text": [
      "Downloading: 100%|██████████████████████████████████████████████████████████████| 1559/1559 [00:00<00:00, 1961.86rows/s]\n"
     ]
    }
   ],
   "source": [
    "# SQL query\n",
    "\n",
    "query_writing = '''\n",
    "SELECT DISTINCT\n",
    "  sigla,\n",
    "  tipo,\n",
    "  ementa,\n",
    "  ementa_detalhada,\n",
    "  palavra_chave,\n",
    "  situacao_ultimo_status,\n",
    "  apreciacao_ultimo_status,\n",
    "  url_teor_proposicao\n",
    "FROM `basedosdados.br_camara_dados_abertos.proposicao_microdados` AS dados\n",
    "WHERE (dados.data > '2022-01-01' AND dados.data < '2024-04-01')\n",
    "AND dados.tipo = 'Redação Final'\n",
    "'''\n",
    "\n",
    "# Read query via 'Base dos dados' Google Cloud API\n",
    "writing = bd.read_sql(query_writing, billing_project_id='anpec-base-dos-dados')"
   ]
  },
  {
   "cell_type": "code",
   "execution_count": 20,
   "id": "e1e368d7-0b65-4dcf-8003-abad38646a8b",
   "metadata": {},
   "outputs": [
    {
     "data": {
      "text/plain": [
       "Redação Final    1559\n",
       "Name: tipo, dtype: int64"
      ]
     },
     "execution_count": 20,
     "metadata": {},
     "output_type": "execute_result"
    }
   ],
   "source": [
    "# contagem de redações finais, menos do que projetos de lei, já que ela seria um estágio mais avançad\n",
    "\n",
    "writing[writing['tipo'] == \"Redação Final\"]['tipo'].value_counts()"
   ]
  },
  {
   "cell_type": "code",
   "execution_count": 12,
   "id": "bc6552c6-9854-492f-b722-1e102e411648",
   "metadata": {},
   "outputs": [
    {
     "name": "stdout",
     "output_type": "stream",
     "text": [
      "Redação Final do PL 327/23\n",
      "Redação final do PDL 599/21\n",
      "Redação Final  do PL 119/2019\n",
      "Dispõe sobre os procedimentos para a denominação de instituições públicas de ensino indígenas, quilombolas e do campo no território nacional.\n",
      "Redação Final do PL 1199/22.\n"
     ]
    }
   ],
   "source": [
    "# ementa da redação final não é uma descrição tão boa, em muitas linhas só é a referência a um projeto de lei\n",
    "\n",
    "for n in writing['ementa'][92:97]:\n",
    "    print(n)"
   ]
  },
  {
   "cell_type": "code",
   "execution_count": 28,
   "id": "ea7cbb94-d8b6-418e-a3cf-575b7fcb2a0c",
   "metadata": {},
   "outputs": [
    {
     "data": {
      "text/plain": [
       "'https://www.camara.leg.br/proposicoesWeb/prop_mostrarintegra?codteor=2214039'"
      ]
     },
     "execution_count": 28,
     "metadata": {},
     "output_type": "execute_result"
    }
   ],
   "source": [
    "# Exemplo de texto da redação final\n",
    "\n",
    "writing_url = writing['url_teor_proposicao'][2]\n",
    "writing_url"
   ]
  },
  {
   "cell_type": "code",
   "execution_count": 24,
   "id": "ed4e914d-9ed5-4927-9efa-8ff09eb9d030",
   "metadata": {},
   "outputs": [
    {
     "name": "stdout",
     "output_type": "stream",
     "text": [
      "None\n",
      "None\n",
      "None\n"
     ]
    }
   ],
   "source": [
    "# também o campo de palavras_chave da redação final está incompleto\n",
    "\n",
    "for n in writing['palavra_chave'][:3]:\n",
    "    print(n)"
   ]
  },
  {
   "cell_type": "code",
   "execution_count": 13,
   "id": "cdab9d42-9cb4-40c6-89d4-ca4633bd0617",
   "metadata": {},
   "outputs": [
    {
     "data": {
      "text/plain": [
       "Aguardando Providências Internas             400\n",
       "Pronta para Pauta                             77\n",
       "Aguardando Leitura e Publicação                1\n",
       "Aguardando Recebimento                         1\n",
       "Aguardando Apreciação pelo Senado Federal      1\n",
       "Name: situacao_ultimo_status, dtype: int64"
      ]
     },
     "execution_count": 13,
     "metadata": {},
     "output_type": "execute_result"
    }
   ],
   "source": [
    "# status da proposta, não consegui encontrar algo que indique se o projeto de lei foi aprovado\n",
    "\n",
    "writing['situacao_ultimo_status'].value_counts()"
   ]
  },
  {
   "cell_type": "markdown",
   "id": "df19594d-2178-4215-a95a-ae8645d2104a",
   "metadata": {},
   "source": [
    "# Processo de análise"
   ]
  },
  {
   "cell_type": "markdown",
   "id": "6800179a-9baa-4346-ab33-d6e728386f8d",
   "metadata": {},
   "source": [
    "## Forma de análise 1: Teste de extração da arquivo de PDF da Emenda Final"
   ]
  },
  {
   "cell_type": "code",
   "execution_count": 26,
   "id": "2dd5dd0a-3ea6-47d5-9d4b-1522de10589a",
   "metadata": {},
   "outputs": [],
   "source": [
    "import io\n",
    "import requests"
   ]
  },
  {
   "cell_type": "code",
   "execution_count": 29,
   "id": "4f2a636f-dd60-4380-8805-9524664f200d",
   "metadata": {},
   "outputs": [
    {
     "data": {
      "text/plain": [
       "403"
      ]
     },
     "execution_count": 29,
     "metadata": {},
     "output_type": "execute_result"
    }
   ],
   "source": [
    "r = requests.get(writing_url)\n",
    "r.status_code"
   ]
  },
  {
   "cell_type": "code",
   "execution_count": 31,
   "id": "9e398906-7908-4b61-a12a-49be46409e3d",
   "metadata": {},
   "outputs": [
    {
     "data": {
      "text/plain": [
       "b'<!DOCTYPE html PUBLIC \"-//W3C//DTD XHTML 1.0 Transitional//EN\" \"http://www.w3.org/TR/xhtml1/DTD/xhtml1-transitional.dtd\">\\n<html xmlns=\"http://www.w3.org/1999/xhtml\" lang=\"pt-br\" xml:lang=\"pt-br\">\\n<head>\\n<meta http-equiv=\"Content-Type\" content=\"text/html; charset=ISO-8859-1\" />\\n<title>Erro de acesso</title>\\n<link rev=\"made\" href=\"mailto:seseg@camara.leg.br\" />\\n<link href=\"https://www.camara.leg.br/proxy-error/pageError.css\" rel=\"stylesheet\" type=\"text/css\" />\\n</head>\\n<body>\\n\\t<div id=\"geralError\">\\n\\t\\t<div id=\"barraCamara\"></div>\\n\\t\\t<div class=\"contentError\">\\n\\t\\t\\t<div class=\"atencao\">\\n\\t\\t\\t\\t<h1>Desculpe-nos!</h1>\\n\\t\\t\\t</div>\\n\\t\\t\\t<div class=\"conteudo\">\\n\\n\\t<div class=\"conteudoBox\">\\n\\t\\t<p>Nossos sistemas autom&aacute;ticos de seguran&ccedil;a impediram que a opera&ccedil;&atilde;o fosse conclu&iacute;da.<p>\\n\\t\\t<p>Isso pode ocorrer quando voc&ecirc; copia dados de outros sites e eles v&ecirc;m com conte&uacute;dos n&atilde;o permitidos.<p>\\n\\t\\t<p>Voc&ecirc; pode <a href=\"javascript:history.back()\" title=\"voltar...\">voltar</a>, revisar o que estava fazendo e tentar novamente.<p>\\n\\t</div>\\n<div class=\"conteudoBox\">\\n\\t<h2>Ajude-nos a oferecer um melhor servi&ccedil;o...</h2>\\n\\t\\n\\t<p>Envie um e-mail para \\n\\t<a href=\"mailto:webmaster@camara.leg.br?Subject=Seguranca%20de%20Rede%20-%20Erro%20de%20Acesso\">\\n\\tceace.cenin@camara.gov.br</a>, contendo:<p>\\n\\t<ul>\\n\\t<li>A descri&ccedil;&atilde;o da opera&ccedil;&atilde;o que voc&ecirc; estava fazendo.</li>\\n\\t<li>As informa&ccedil;&otilde;es sobre o erro, mostradas abaixo (copie e cole no corpo do e-mail):</li>\\n\\t</ul>\\n\\t<form>\\n\\t\\t<textarea rows=\"8\" wrap=\"virtual\" onfocus=\"this.select()\" onclick=\"this.select()\" readonly=\"readonly\">\\nErro: 403\\nServidor: www.camara.leg.br\\nQuando: Saturday, 19-Oct-2024 15:45:40 -03\\nTipo: Erro de acesso \\nID: ZxP@VBmdNZp6EeitYCmULQAAACA \\nURL: /proposicoesWeb/prop_mostrarintegra \\n\\n</textarea>\\n\\t</form>\\n</div>\\n\\n<address>\\n  <a href=\"/\">www.camara.leg.br</a><br />\\n</address>\\n\\t\\t\\t</div>\\n\\t\\t</div>\\t\\t\\n\\t</div>\\n\\n</body>\\n</html>\\n\\n'"
      ]
     },
     "execution_count": 31,
     "metadata": {},
     "output_type": "execute_result"
    }
   ],
   "source": [
    "# Aparentemente o site da câmara nega o acesso\n",
    "\n",
    "r = requests.get(writing_url)\n",
    "r.content"
   ]
  },
  {
   "cell_type": "code",
   "execution_count": 33,
   "id": "469b2a8f-768c-4e95-937f-9be7b65e5505",
   "metadata": {},
   "outputs": [
    {
     "data": {
      "text/plain": [
       "'\\nimport PyPDF2\\nr = requests.get(writing_url)\\nf = io.BytesIO(r.content)\\n\\nreader = PyPDF2.PdfReader(f)\\npages = reader.pages\\ntext = \"\".join([page.extract_text() for page in pages])\\n'"
      ]
     },
     "execution_count": 33,
     "metadata": {},
     "output_type": "execute_result"
    }
   ],
   "source": [
    "'''\n",
    "import PyPDF2\n",
    "r = requests.get(writing_url)\n",
    "f = io.BytesIO(r.content)\n",
    "\n",
    "reader = PyPDF2.PdfReader(f)\n",
    "pages = reader.pages\n",
    "text = \"\".join([page.extract_text() for page in pages])\n",
    "'''"
   ]
  },
  {
   "cell_type": "markdown",
   "id": "7a044ccb-7df5-44c6-a200-ea2273a96493",
   "metadata": {},
   "source": [
    "<span style=\"color:red\">A primeira forma de analisar o texto, com o teor completo da redação final apresentou esse roadblock de acesso</span>.\n"
   ]
  },
  {
   "cell_type": "markdown",
   "id": "94457012-473a-4acc-aacd-e495eab22376",
   "metadata": {},
   "source": [
    "## Forma de análise 2: texto da ementa"
   ]
  },
  {
   "cell_type": "code",
   "execution_count": 34,
   "id": "63e5d325-c8a5-42a3-b873-e886188fb051",
   "metadata": {},
   "outputs": [
    {
     "name": "stdout",
     "output_type": "stream",
     "text": [
      "<class 'pandas.core.frame.DataFrame'>\n",
      "RangeIndex: 8904 entries, 0 to 8903\n",
      "Data columns (total 9 columns):\n",
      " #   Column                    Non-Null Count  Dtype \n",
      "---  ------                    --------------  ----- \n",
      " 0   sigla                     8904 non-null   object\n",
      " 1   tipo                      8904 non-null   object\n",
      " 2   ementa                    8904 non-null   object\n",
      " 3   ementa_detalhada          367 non-null    object\n",
      " 4   palavra_chave             7475 non-null   object\n",
      " 5   situacao_ultimo_status    8525 non-null   object\n",
      " 6   apreciacao_ultimo_status  8904 non-null   object\n",
      " 7   url_teor_proposicao       8904 non-null   object\n",
      " 8   id_proposicao             8904 non-null   object\n",
      "dtypes: object(9)\n",
      "memory usage: 626.2+ KB\n"
     ]
    }
   ],
   "source": [
    "projects.info()"
   ]
  },
  {
   "cell_type": "code",
   "execution_count": 35,
   "id": "e067a1e1-dbcd-4903-86b5-1fd88ad7009f",
   "metadata": {},
   "outputs": [
    {
     "name": "stdout",
     "output_type": "stream",
     "text": [
      "<class 'pandas.core.frame.DataFrame'>\n",
      "RangeIndex: 8904 entries, 0 to 8903\n",
      "Data columns (total 2 columns):\n",
      " #   Column         Non-Null Count  Dtype \n",
      "---  ------         --------------  ----- \n",
      " 0   id_proposicao  8904 non-null   object\n",
      " 1   ementa         8904 non-null   object\n",
      "dtypes: object(2)\n",
      "memory usage: 139.2+ KB\n"
     ]
    }
   ],
   "source": [
    "law_description = projects[['id_proposicao','ementa']]\n",
    "law_description.info()"
   ]
  },
  {
   "cell_type": "markdown",
   "id": "79a21a79-5efa-463e-8b94-55b78204a66d",
   "metadata": {},
   "source": [
    "### Lemmatização\n",
    "\n",
    "Lemmatization is a text pre-processing technique to break a word down to its root meaning to identify similarities.\n",
    "<br> For example, a lemmatization algorithm would reduce the word better to its root word, or lemme, good.\n",
    "<br> Although NLTK wordnet moddule supports other languages, including porutgues, from the Open Multilingual Wordnet, WordNetLemmatizer uses a english wordnet only (or as far as I could set up)"
   ]
  },
  {
   "cell_type": "markdown",
   "id": "f089c0bf-7438-4e62-a085-618d3ac9b669",
   "metadata": {},
   "source": [
    "#### Libraries\n",
    "\n",
    "*NLTK:* Although NLTK wordnet moddule supports other languages, including porutgues, from the Open Multilingual Wordnet, WordNetLemmatizer uses a english wordnet only.\n",
    "<br>*Spacy:*: Spacy uses a ML approach, from a pre-defined corpus for specific languages. However it uses Numpy 2.0 which causes a dependecy error with Basedosdados (numpy==1.26) used here to fetch data."
   ]
  },
  {
   "cell_type": "code",
   "execution_count": null,
   "id": "da11f7e2-55d7-4fab-9464-5abdd176bec9",
   "metadata": {},
   "outputs": [],
   "source": [
    "'''\n",
    "nlp = spacy.load('pt_core_news_sm',disable=[\"tagger\", \"parser\",\"ner\",\"tok2vek\"])\n",
    "\n",
    "def preprocessing_spacy(text):    \n",
    "    \n",
    "    doc = nlp.pipe(text)\n",
    "    text = [token.lemma_ for token in doc if token.pos_ == 'NOUN' or token.pos_ == 'PROPN' and token.dep_ != 'punct']\n",
    "    text = ' '.join(text)\n",
    "    text= text.lower().strip()\n",
    "    \n",
    "    return text\n",
    "\n",
    "test = law_description['ementa'][:2]\n",
    "\n",
    "preprocessing_spacy(test)\n",
    "\n",
    "print(doc.text)\n",
    "for token in doc:\n",
    "    print(token.text, token.pos_, token.dep_)\n",
    "\n",
    "'''"
   ]
  },
  {
   "cell_type": "code",
   "execution_count": null,
   "id": "d4651da8-dcfe-4359-8e11-87db48775cba",
   "metadata": {},
   "outputs": [],
   "source": [
    "'''\n",
    "test = law_description.head(10)\n",
    "test.info()\n",
    "\n",
    "stopwords = set(nltk.corpus.stopwords.words('portuguese'))\n",
    "\n",
    "def lemmatize_pipe(doc):\n",
    "    lemma_list = [str(tok.lemma_).lower() for tok in doc\n",
    "                 if tok.is_alpha and tok.text.lower() not in stopwords]\n",
    "    return lemma_list\n",
    "\n",
    "def proprocess_pipe(texts):\n",
    "    preproc_pipe = []\n",
    "    for doc in nlp.pipe(texts, batch_size=100): #batch size is one of the levels to optimize, larger for smaller docs\n",
    "        preproc_pipe.append(lemmatize_pipe(doc))\n",
    "    return preproc_pipe\n",
    "\n",
    "%%time\n",
    "test['lemmas'] = proprocess_pipe(test['ementa'])\n",
    "test[['id_proposicao', 'ementa', 'lemmas']]\n",
    "'''"
   ]
  },
  {
   "cell_type": "markdown",
   "id": "a4b74361-33eb-444d-bf17-34bb82ab476e",
   "metadata": {},
   "source": [
    "<span style=\"color:red\">A segunda forma de analisar o texto, com a lemmatização a partir do texto da ementa apresentou esse roadblock na escolha da library</span>."
   ]
  },
  {
   "cell_type": "markdown",
   "id": "be930089-91d7-4bcd-b42e-85b6a6412d9d",
   "metadata": {},
   "source": [
    "## Forma de análise 3: Uso das palavras chaves"
   ]
  },
  {
   "cell_type": "code",
   "execution_count": 40,
   "id": "d1455aab-67d2-4f27-91e0-c5af371fefa9",
   "metadata": {},
   "outputs": [
    {
     "data": {
      "text/plain": [
       "0       Alteração, Estatuto do Desarmamento, expedição...\n",
       "1       Política pública, prevenção, violência contra ...\n",
       "2       Criação, Sistema de Logística Reversa de Resíd...\n",
       "3       Alteração, Lei de Acesso à Informação, obrigat...\n",
       "4       Critério, Licença compulsória, Patente de prod...\n",
       "                              ...                        \n",
       "8899                                                 None\n",
       "8900                                                 None\n",
       "8901                                                 None\n",
       "8902                                                 None\n",
       "8903    Critério, isenção, Empresa Brasileira de Pesqu...\n",
       "Name: palavra_chave, Length: 8904, dtype: object"
      ]
     },
     "execution_count": 40,
     "metadata": {},
     "output_type": "execute_result"
    }
   ],
   "source": [
    "law_keywords = projects['palavra_chave']\n",
    "law_keywords"
   ]
  },
  {
   "cell_type": "code",
   "execution_count": 55,
   "id": "38331cf5-7a10-40a2-908c-f87ab7c67763",
   "metadata": {},
   "outputs": [],
   "source": [
    "corpus = law_keywords.head(3)"
   ]
  },
  {
   "cell_type": "code",
   "execution_count": 56,
   "id": "1cf72053-4d25-4c0e-94e5-8aada0698204",
   "metadata": {},
   "outputs": [
    {
     "data": {
      "text/plain": [
       "'Política pública, prevenção, violência contra a mulher. _Diretrizes, inclusão, conteúdo educativo, educação infantil, educação básica, ensino fundamental, ensino médio, direitos, mulher. _Poder público, campanha educativa, serviços públicos, orientação, mulher. _Alteração, Lei de Abuso de Autoridade (2019), tipicidade penal, crime, ausência, cumprimento, diretrizes, atendimento, mulher, vítima, violência. _Filmagem, fotografia, agressor, violência contra a mulher, flagrante delito. _Alteração, Lei de Execução Penal, critério, progressão de regime prisional, monitoração eletrônica, preso condenado, crime contra a mulher. _Alteração, Regime Jurídico Único dos Servidores Públicos Civis da União, critério, afastamento preventivo de servidor, crime contra a mulher, ambiente de trabalho.'"
      ]
     },
     "execution_count": 56,
     "metadata": {},
     "output_type": "execute_result"
    }
   ],
   "source": [
    "corpus[1]"
   ]
  },
  {
   "cell_type": "code",
   "execution_count": 57,
   "id": "e8720d00-ef8f-4d6d-8274-727de9ba0519",
   "metadata": {},
   "outputs": [
    {
     "name": "stdout",
     "output_type": "stream",
     "text": [
      "Bag of Words Matrix: \n",
      " [[ 0  0  1  1  1  1  0  0  0  1  1  0  1  0  0  1  0  1 11  2  0  1  1  2\n",
      "   0  0  1  1  1  2  0  1  1  0  1  1  0  0  0  0  0  0  0  0  0  1 18  2\n",
      "   0  0  1  0  1  0  0  0  0  1  1  0  0  0  0  0  0  1  0  0  1  1  1  0\n",
      "   0  1  0  0  0  0  5  0  0  1  1  0  0  0  0  1  0  1  1  1  0  0  0  2\n",
      "   1  0  0  1  1  0  2  1  0  0  0  0  0  0  1  1  1  0  3  0  0  0  0  0\n",
      "   0  0  0  1  1  1  1  0  0  1  0  2  0  1  0  0  0  2  0  0  0  1  1  2\n",
      "   1  0  1  0  1  0  1  0  0  0  1  1  1  0  0  1  0]\n",
      " [ 1  3  0  0  0  0  1  1  1  0  0  1  0  1  1  0  1  0  0  0  1  1  1  0\n",
      "   1  1  0  0  0  0  1  0  0  0  0  0  1  0  0  1  4  0  3  2  1  1  6  0\n",
      "   0  1  0  0  0  1  1  0  0  0  0  1  1  1  2  1  0  0  0  2  0  0  0  0\n",
      "   1  0  0  0  0  1  0  1  1  0  0  0  0  1  1  0  1  0  0  0  2  0  0  0\n",
      "   0  1  7  0  0  1  0  0  0  0  1  0  2  0  0  0  0  1  0  0  0  1  1  1\n",
      "   1  0  1  0  0  0  1  1  2  0  2  0  0  0  0  0  0  0  1  1  1  0  0  0\n",
      "   0  0  0  1  0  1  0  0  0  1  0  0  0  3  1  0  1]\n",
      " [ 0  1  0  0  0  0  0  0  0  0  0  0  0  0  0  0  1  0  0  0  0  0  0  0\n",
      "   0  0  0  0  0  0  0  0  0  1  0  0  0  1  1  0  0  1  0  0  0  1  5  0\n",
      "   1  0  0  1  0  0  0  1  1  2  0  0  0  0  0  0  2  0  1  0  0  0  0  2\n",
      "   0  0  1  1  1  0  0  0  0  0  0  2  1  0  0  0  0  0  0  0  2  4  1  0\n",
      "   0  0  0  0  0  0  0  1  1  1  0  1  0  1  0  0  0  0  0  1  1  0  0  0\n",
      "   0  2  0  0  0  0  0  0  0  0  0  0  1  0  2  2  4  0  0  0  0  0  0  3\n",
      "   0  1  0  0  0  0  0  1  2  0  0  0  0  0  0  0  0]]\n"
     ]
    }
   ],
   "source": [
    "from sklearn.feature_extraction.text import CountVectorizer\n",
    "\n",
    "vectorizer = CountVectorizer()\n",
    "\n",
    "X = vectorizer.fit_transform(corpus)\n",
    "\n",
    "feature_names = vectorizer.get_feature_names_out()\n",
    "\n",
    "X_array = X.toarray()\n",
    "\n",
    "X_array\n",
    "\n",
    "print(\"Bag of Words Matrix: \\n\", X_array)"
   ]
  },
  {
   "cell_type": "code",
   "execution_count": 58,
   "id": "7bab47dc-caab-4e62-84fb-878106c9b685",
   "metadata": {},
   "outputs": [
    {
     "data": {
      "text/html": [
       "<div>\n",
       "<style scoped>\n",
       "    .dataframe tbody tr th:only-of-type {\n",
       "        vertical-align: middle;\n",
       "    }\n",
       "\n",
       "    .dataframe tbody tr th {\n",
       "        vertical-align: top;\n",
       "    }\n",
       "\n",
       "    .dataframe thead th {\n",
       "        text-align: right;\n",
       "    }\n",
       "</style>\n",
       "<table border=\"1\" class=\"dataframe\">\n",
       "  <thead>\n",
       "    <tr style=\"text-align: right;\">\n",
       "      <th></th>\n",
       "      <th>2019</th>\n",
       "      <th>_alteração</th>\n",
       "      <th>_aquisição</th>\n",
       "      <th>_autorização</th>\n",
       "      <th>_classificação</th>\n",
       "      <th>_competência</th>\n",
       "      <th>_diretrizes</th>\n",
       "      <th>_filmagem</th>\n",
       "      <th>_poder</th>\n",
       "      <th>_requisito</th>\n",
       "      <th>...</th>\n",
       "      <th>têxteis</th>\n",
       "      <th>têxtil</th>\n",
       "      <th>união</th>\n",
       "      <th>uso</th>\n",
       "      <th>utilização</th>\n",
       "      <th>validade</th>\n",
       "      <th>violência</th>\n",
       "      <th>vítima</th>\n",
       "      <th>área</th>\n",
       "      <th>único</th>\n",
       "    </tr>\n",
       "    <tr>\n",
       "      <th>palavra_chave</th>\n",
       "      <th></th>\n",
       "      <th></th>\n",
       "      <th></th>\n",
       "      <th></th>\n",
       "      <th></th>\n",
       "      <th></th>\n",
       "      <th></th>\n",
       "      <th></th>\n",
       "      <th></th>\n",
       "      <th></th>\n",
       "      <th></th>\n",
       "      <th></th>\n",
       "      <th></th>\n",
       "      <th></th>\n",
       "      <th></th>\n",
       "      <th></th>\n",
       "      <th></th>\n",
       "      <th></th>\n",
       "      <th></th>\n",
       "      <th></th>\n",
       "      <th></th>\n",
       "    </tr>\n",
       "  </thead>\n",
       "  <tbody>\n",
       "    <tr>\n",
       "      <th>Alteração, Estatuto do Desarmamento, expedição, Certificado de Registro de Arma de Fogo, autoridade competente, Sistema Nacional de Armas (Sinarm), Sistema de Gerenciamento Militar de Armas (SIGMA), documento, direito de propriedade, arma de fogo. _Requisito, aquisição, arma de fogo, comprovação, idoneidade, substituição, certidão de objeto e pé, quantidade. _ Certificado de Registro de Arma de Fogo, autorização, proprietário, transporte, arma de fogo, ausência, munição. _ Porte de arma, validade, território nacional, caráter pessoal, intransferibilidade. _Autorização, utilização, arma, acervo museológico, tiro esportivo, caça, coleção, defesa pessoa, Legítima defesa. _Competência, Ministério da Justiça e Segurança Pública, autorização, porte de arma, responsável legal, segurança, estrangeiro. _Classificação, arma, uso permitido. _Taxa, emissão, porte de arma. _Aquisição, arma, Comando militar de área.</th>\n",
       "      <td>0</td>\n",
       "      <td>0</td>\n",
       "      <td>1</td>\n",
       "      <td>1</td>\n",
       "      <td>1</td>\n",
       "      <td>1</td>\n",
       "      <td>0</td>\n",
       "      <td>0</td>\n",
       "      <td>0</td>\n",
       "      <td>1</td>\n",
       "      <td>...</td>\n",
       "      <td>0</td>\n",
       "      <td>0</td>\n",
       "      <td>0</td>\n",
       "      <td>1</td>\n",
       "      <td>1</td>\n",
       "      <td>1</td>\n",
       "      <td>0</td>\n",
       "      <td>0</td>\n",
       "      <td>1</td>\n",
       "      <td>0</td>\n",
       "    </tr>\n",
       "    <tr>\n",
       "      <th>Política pública, prevenção, violência contra a mulher. _Diretrizes, inclusão, conteúdo educativo, educação infantil, educação básica, ensino fundamental, ensino médio, direitos, mulher. _Poder público, campanha educativa, serviços públicos, orientação, mulher. _Alteração, Lei de Abuso de Autoridade (2019), tipicidade penal, crime, ausência, cumprimento, diretrizes, atendimento, mulher, vítima, violência. _Filmagem, fotografia, agressor, violência contra a mulher, flagrante delito. _Alteração, Lei de Execução Penal, critério, progressão de regime prisional, monitoração eletrônica, preso condenado, crime contra a mulher. _Alteração, Regime Jurídico Único dos Servidores Públicos Civis da União, critério, afastamento preventivo de servidor, crime contra a mulher, ambiente de trabalho.</th>\n",
       "      <td>1</td>\n",
       "      <td>3</td>\n",
       "      <td>0</td>\n",
       "      <td>0</td>\n",
       "      <td>0</td>\n",
       "      <td>0</td>\n",
       "      <td>1</td>\n",
       "      <td>1</td>\n",
       "      <td>1</td>\n",
       "      <td>0</td>\n",
       "      <td>...</td>\n",
       "      <td>0</td>\n",
       "      <td>0</td>\n",
       "      <td>1</td>\n",
       "      <td>0</td>\n",
       "      <td>0</td>\n",
       "      <td>0</td>\n",
       "      <td>3</td>\n",
       "      <td>1</td>\n",
       "      <td>0</td>\n",
       "      <td>1</td>\n",
       "    </tr>\n",
       "    <tr>\n",
       "      <th>Criação, Sistema de Logística Reversa de Resíduos Têxteis, logística reversa, resíduo têxtil, embalagem do produto, posterioridade, descarte, participação, fabricante, empresa importadora, distribuidor, comerciante, consumidor, definição, objeto da lei, finalidade, conservação, preservação, meio ambiente, estruturação, implementação, Sistema de logística reversa, obrigações, responsabilidade, penalidade, disposição final. _Alteração, Lei de resíduos sólidos, obrigatoriedade, estruturação, implementação, Sistema de logística reversa, resíduo têxtil, embalagem do produto.</th>\n",
       "      <td>0</td>\n",
       "      <td>1</td>\n",
       "      <td>0</td>\n",
       "      <td>0</td>\n",
       "      <td>0</td>\n",
       "      <td>0</td>\n",
       "      <td>0</td>\n",
       "      <td>0</td>\n",
       "      <td>0</td>\n",
       "      <td>0</td>\n",
       "      <td>...</td>\n",
       "      <td>1</td>\n",
       "      <td>2</td>\n",
       "      <td>0</td>\n",
       "      <td>0</td>\n",
       "      <td>0</td>\n",
       "      <td>0</td>\n",
       "      <td>0</td>\n",
       "      <td>0</td>\n",
       "      <td>0</td>\n",
       "      <td>0</td>\n",
       "    </tr>\n",
       "  </tbody>\n",
       "</table>\n",
       "<p>3 rows × 161 columns</p>\n",
       "</div>"
      ],
      "text/plain": [
       "                                                    2019  _alteração  \\\n",
       "palavra_chave                                                          \n",
       "Alteração, Estatuto do Desarmamento, expedição,...     0           0   \n",
       "Política pública, prevenção, violência contra a...     1           3   \n",
       "Criação, Sistema de Logística Reversa de Resídu...     0           1   \n",
       "\n",
       "                                                    _aquisição  _autorização  \\\n",
       "palavra_chave                                                                  \n",
       "Alteração, Estatuto do Desarmamento, expedição,...           1             1   \n",
       "Política pública, prevenção, violência contra a...           0             0   \n",
       "Criação, Sistema de Logística Reversa de Resídu...           0             0   \n",
       "\n",
       "                                                    _classificação  \\\n",
       "palavra_chave                                                        \n",
       "Alteração, Estatuto do Desarmamento, expedição,...               1   \n",
       "Política pública, prevenção, violência contra a...               0   \n",
       "Criação, Sistema de Logística Reversa de Resídu...               0   \n",
       "\n",
       "                                                    _competência  _diretrizes  \\\n",
       "palavra_chave                                                                   \n",
       "Alteração, Estatuto do Desarmamento, expedição,...             1            0   \n",
       "Política pública, prevenção, violência contra a...             0            1   \n",
       "Criação, Sistema de Logística Reversa de Resídu...             0            0   \n",
       "\n",
       "                                                    _filmagem  _poder  \\\n",
       "palavra_chave                                                           \n",
       "Alteração, Estatuto do Desarmamento, expedição,...          0       0   \n",
       "Política pública, prevenção, violência contra a...          1       1   \n",
       "Criação, Sistema de Logística Reversa de Resídu...          0       0   \n",
       "\n",
       "                                                    _requisito  ...  têxteis  \\\n",
       "palavra_chave                                                   ...            \n",
       "Alteração, Estatuto do Desarmamento, expedição,...           1  ...        0   \n",
       "Política pública, prevenção, violência contra a...           0  ...        0   \n",
       "Criação, Sistema de Logística Reversa de Resídu...           0  ...        1   \n",
       "\n",
       "                                                    têxtil  união  uso  \\\n",
       "palavra_chave                                                            \n",
       "Alteração, Estatuto do Desarmamento, expedição,...       0      0    1   \n",
       "Política pública, prevenção, violência contra a...       0      1    0   \n",
       "Criação, Sistema de Logística Reversa de Resídu...       2      0    0   \n",
       "\n",
       "                                                    utilização  validade  \\\n",
       "palavra_chave                                                              \n",
       "Alteração, Estatuto do Desarmamento, expedição,...           1         1   \n",
       "Política pública, prevenção, violência contra a...           0         0   \n",
       "Criação, Sistema de Logística Reversa de Resídu...           0         0   \n",
       "\n",
       "                                                    violência  vítima  área  \\\n",
       "palavra_chave                                                                 \n",
       "Alteração, Estatuto do Desarmamento, expedição,...          0       0     1   \n",
       "Política pública, prevenção, violência contra a...          3       1     0   \n",
       "Criação, Sistema de Logística Reversa de Resídu...          0       0     0   \n",
       "\n",
       "                                                    único  \n",
       "palavra_chave                                              \n",
       "Alteração, Estatuto do Desarmamento, expedição,...      0  \n",
       "Política pública, prevenção, violência contra a...      1  \n",
       "Criação, Sistema de Logística Reversa de Resídu...      0  \n",
       "\n",
       "[3 rows x 161 columns]"
      ]
     },
     "execution_count": 58,
     "metadata": {},
     "output_type": "execute_result"
    }
   ],
   "source": [
    "import pandas as pd\n",
    "\n",
    "df = pd.DataFrame(data=X_array, columns=feature_names, index=corpus)\n",
    "\n",
    "df.head(5)"
   ]
  },
  {
   "cell_type": "markdown",
   "id": "8bd630a7-8858-4dcf-a04a-f691e6a76764",
   "metadata": {},
   "source": [
    "## próximos passos\n",
    "\n",
    "1. Limpar palavras chave para matriz de vetores\n",
    "2. Método bag of words"
   ]
  }
 ],
 "metadata": {
  "kernelspec": {
   "display_name": "Python 3 (ipykernel)",
   "language": "python",
   "name": "python3"
  },
  "language_info": {
   "codemirror_mode": {
    "name": "ipython",
    "version": 3
   },
   "file_extension": ".py",
   "mimetype": "text/x-python",
   "name": "python",
   "nbconvert_exporter": "python",
   "pygments_lexer": "ipython3",
   "version": "3.10.15"
  }
 },
 "nbformat": 4,
 "nbformat_minor": 5
}
